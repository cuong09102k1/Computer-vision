{
  "nbformat": 4,
  "nbformat_minor": 0,
  "metadata": {
    "colab": {
      "provenance": [],
      "gpuType": "T4"
    },
    "kernelspec": {
      "name": "python3",
      "display_name": "Python 3"
    },
    "language_info": {
      "name": "python"
    },
    "accelerator": "GPU",
    "gpuClass": "standard",
    "widgets": {
      "application/vnd.jupyter.widget-state+json": {
        "974b9148c1ab41a393d2c8973d253738": {
          "model_module": "@jupyter-widgets/controls",
          "model_name": "HBoxModel",
          "model_module_version": "1.5.0",
          "state": {
            "_dom_classes": [],
            "_model_module": "@jupyter-widgets/controls",
            "_model_module_version": "1.5.0",
            "_model_name": "HBoxModel",
            "_view_count": null,
            "_view_module": "@jupyter-widgets/controls",
            "_view_module_version": "1.5.0",
            "_view_name": "HBoxView",
            "box_style": "",
            "children": [
              "IPY_MODEL_80e9da7172c74332b221f02f98502080",
              "IPY_MODEL_52623ee69fb34f71b34bcf813edf3c04",
              "IPY_MODEL_438f5fb86d8c4b799c6d5e5f80cf6a9a"
            ],
            "layout": "IPY_MODEL_7df16ff576dd4bad96c7841b5e176060"
          }
        },
        "80e9da7172c74332b221f02f98502080": {
          "model_module": "@jupyter-widgets/controls",
          "model_name": "HTMLModel",
          "model_module_version": "1.5.0",
          "state": {
            "_dom_classes": [],
            "_model_module": "@jupyter-widgets/controls",
            "_model_module_version": "1.5.0",
            "_model_name": "HTMLModel",
            "_view_count": null,
            "_view_module": "@jupyter-widgets/controls",
            "_view_module_version": "1.5.0",
            "_view_name": "HTMLView",
            "description": "",
            "description_tooltip": null,
            "layout": "IPY_MODEL_7f9be6bcafea4f269436b18c982a6848",
            "placeholder": "​",
            "style": "IPY_MODEL_0d0e08078c8048829652b177a0e56421",
            "value": "100%"
          }
        },
        "52623ee69fb34f71b34bcf813edf3c04": {
          "model_module": "@jupyter-widgets/controls",
          "model_name": "FloatProgressModel",
          "model_module_version": "1.5.0",
          "state": {
            "_dom_classes": [],
            "_model_module": "@jupyter-widgets/controls",
            "_model_module_version": "1.5.0",
            "_model_name": "FloatProgressModel",
            "_view_count": null,
            "_view_module": "@jupyter-widgets/controls",
            "_view_module_version": "1.5.0",
            "_view_name": "ProgressView",
            "bar_style": "success",
            "description": "",
            "description_tooltip": null,
            "layout": "IPY_MODEL_af3dbdce9cb145648ffebb40220103e4",
            "max": 5,
            "min": 0,
            "orientation": "horizontal",
            "style": "IPY_MODEL_d0cf0d6d54084572936d359740a39fd5",
            "value": 5
          }
        },
        "438f5fb86d8c4b799c6d5e5f80cf6a9a": {
          "model_module": "@jupyter-widgets/controls",
          "model_name": "HTMLModel",
          "model_module_version": "1.5.0",
          "state": {
            "_dom_classes": [],
            "_model_module": "@jupyter-widgets/controls",
            "_model_module_version": "1.5.0",
            "_model_name": "HTMLModel",
            "_view_count": null,
            "_view_module": "@jupyter-widgets/controls",
            "_view_module_version": "1.5.0",
            "_view_name": "HTMLView",
            "description": "",
            "description_tooltip": null,
            "layout": "IPY_MODEL_51138bd6b1d34ff19c10b756f1e7866e",
            "placeholder": "​",
            "style": "IPY_MODEL_864a622e70c847dea3a405dcad5c605e",
            "value": " 5/5 [01:48&lt;00:00, 21.67s/it]"
          }
        },
        "7df16ff576dd4bad96c7841b5e176060": {
          "model_module": "@jupyter-widgets/base",
          "model_name": "LayoutModel",
          "model_module_version": "1.2.0",
          "state": {
            "_model_module": "@jupyter-widgets/base",
            "_model_module_version": "1.2.0",
            "_model_name": "LayoutModel",
            "_view_count": null,
            "_view_module": "@jupyter-widgets/base",
            "_view_module_version": "1.2.0",
            "_view_name": "LayoutView",
            "align_content": null,
            "align_items": null,
            "align_self": null,
            "border": null,
            "bottom": null,
            "display": null,
            "flex": null,
            "flex_flow": null,
            "grid_area": null,
            "grid_auto_columns": null,
            "grid_auto_flow": null,
            "grid_auto_rows": null,
            "grid_column": null,
            "grid_gap": null,
            "grid_row": null,
            "grid_template_areas": null,
            "grid_template_columns": null,
            "grid_template_rows": null,
            "height": null,
            "justify_content": null,
            "justify_items": null,
            "left": null,
            "margin": null,
            "max_height": null,
            "max_width": null,
            "min_height": null,
            "min_width": null,
            "object_fit": null,
            "object_position": null,
            "order": null,
            "overflow": null,
            "overflow_x": null,
            "overflow_y": null,
            "padding": null,
            "right": null,
            "top": null,
            "visibility": null,
            "width": null
          }
        },
        "7f9be6bcafea4f269436b18c982a6848": {
          "model_module": "@jupyter-widgets/base",
          "model_name": "LayoutModel",
          "model_module_version": "1.2.0",
          "state": {
            "_model_module": "@jupyter-widgets/base",
            "_model_module_version": "1.2.0",
            "_model_name": "LayoutModel",
            "_view_count": null,
            "_view_module": "@jupyter-widgets/base",
            "_view_module_version": "1.2.0",
            "_view_name": "LayoutView",
            "align_content": null,
            "align_items": null,
            "align_self": null,
            "border": null,
            "bottom": null,
            "display": null,
            "flex": null,
            "flex_flow": null,
            "grid_area": null,
            "grid_auto_columns": null,
            "grid_auto_flow": null,
            "grid_auto_rows": null,
            "grid_column": null,
            "grid_gap": null,
            "grid_row": null,
            "grid_template_areas": null,
            "grid_template_columns": null,
            "grid_template_rows": null,
            "height": null,
            "justify_content": null,
            "justify_items": null,
            "left": null,
            "margin": null,
            "max_height": null,
            "max_width": null,
            "min_height": null,
            "min_width": null,
            "object_fit": null,
            "object_position": null,
            "order": null,
            "overflow": null,
            "overflow_x": null,
            "overflow_y": null,
            "padding": null,
            "right": null,
            "top": null,
            "visibility": null,
            "width": null
          }
        },
        "0d0e08078c8048829652b177a0e56421": {
          "model_module": "@jupyter-widgets/controls",
          "model_name": "DescriptionStyleModel",
          "model_module_version": "1.5.0",
          "state": {
            "_model_module": "@jupyter-widgets/controls",
            "_model_module_version": "1.5.0",
            "_model_name": "DescriptionStyleModel",
            "_view_count": null,
            "_view_module": "@jupyter-widgets/base",
            "_view_module_version": "1.2.0",
            "_view_name": "StyleView",
            "description_width": ""
          }
        },
        "af3dbdce9cb145648ffebb40220103e4": {
          "model_module": "@jupyter-widgets/base",
          "model_name": "LayoutModel",
          "model_module_version": "1.2.0",
          "state": {
            "_model_module": "@jupyter-widgets/base",
            "_model_module_version": "1.2.0",
            "_model_name": "LayoutModel",
            "_view_count": null,
            "_view_module": "@jupyter-widgets/base",
            "_view_module_version": "1.2.0",
            "_view_name": "LayoutView",
            "align_content": null,
            "align_items": null,
            "align_self": null,
            "border": null,
            "bottom": null,
            "display": null,
            "flex": null,
            "flex_flow": null,
            "grid_area": null,
            "grid_auto_columns": null,
            "grid_auto_flow": null,
            "grid_auto_rows": null,
            "grid_column": null,
            "grid_gap": null,
            "grid_row": null,
            "grid_template_areas": null,
            "grid_template_columns": null,
            "grid_template_rows": null,
            "height": null,
            "justify_content": null,
            "justify_items": null,
            "left": null,
            "margin": null,
            "max_height": null,
            "max_width": null,
            "min_height": null,
            "min_width": null,
            "object_fit": null,
            "object_position": null,
            "order": null,
            "overflow": null,
            "overflow_x": null,
            "overflow_y": null,
            "padding": null,
            "right": null,
            "top": null,
            "visibility": null,
            "width": null
          }
        },
        "d0cf0d6d54084572936d359740a39fd5": {
          "model_module": "@jupyter-widgets/controls",
          "model_name": "ProgressStyleModel",
          "model_module_version": "1.5.0",
          "state": {
            "_model_module": "@jupyter-widgets/controls",
            "_model_module_version": "1.5.0",
            "_model_name": "ProgressStyleModel",
            "_view_count": null,
            "_view_module": "@jupyter-widgets/base",
            "_view_module_version": "1.2.0",
            "_view_name": "StyleView",
            "bar_color": null,
            "description_width": ""
          }
        },
        "51138bd6b1d34ff19c10b756f1e7866e": {
          "model_module": "@jupyter-widgets/base",
          "model_name": "LayoutModel",
          "model_module_version": "1.2.0",
          "state": {
            "_model_module": "@jupyter-widgets/base",
            "_model_module_version": "1.2.0",
            "_model_name": "LayoutModel",
            "_view_count": null,
            "_view_module": "@jupyter-widgets/base",
            "_view_module_version": "1.2.0",
            "_view_name": "LayoutView",
            "align_content": null,
            "align_items": null,
            "align_self": null,
            "border": null,
            "bottom": null,
            "display": null,
            "flex": null,
            "flex_flow": null,
            "grid_area": null,
            "grid_auto_columns": null,
            "grid_auto_flow": null,
            "grid_auto_rows": null,
            "grid_column": null,
            "grid_gap": null,
            "grid_row": null,
            "grid_template_areas": null,
            "grid_template_columns": null,
            "grid_template_rows": null,
            "height": null,
            "justify_content": null,
            "justify_items": null,
            "left": null,
            "margin": null,
            "max_height": null,
            "max_width": null,
            "min_height": null,
            "min_width": null,
            "object_fit": null,
            "object_position": null,
            "order": null,
            "overflow": null,
            "overflow_x": null,
            "overflow_y": null,
            "padding": null,
            "right": null,
            "top": null,
            "visibility": null,
            "width": null
          }
        },
        "864a622e70c847dea3a405dcad5c605e": {
          "model_module": "@jupyter-widgets/controls",
          "model_name": "DescriptionStyleModel",
          "model_module_version": "1.5.0",
          "state": {
            "_model_module": "@jupyter-widgets/controls",
            "_model_module_version": "1.5.0",
            "_model_name": "DescriptionStyleModel",
            "_view_count": null,
            "_view_module": "@jupyter-widgets/base",
            "_view_module_version": "1.2.0",
            "_view_name": "StyleView",
            "description_width": ""
          }
        }
      }
    }
  },
  "cells": [
    {
      "cell_type": "code",
      "execution_count": null,
      "metadata": {
        "id": "9JWVC7XkXH2k"
      },
      "outputs": [],
      "source": [
        "import torch\n",
        "import torch.nn as nn\n",
        "import torchvision\n",
        "import torchvision.transforms as transforms\n",
        "import torch.quantization"
      ]
    },
    {
      "cell_type": "markdown",
      "source": [
        "#Dataloader\n"
      ],
      "metadata": {
        "id": "l68dC41yk1zi"
      }
    },
    {
      "cell_type": "code",
      "source": [
        "transform = transforms.Compose([\n",
        "    transforms.Resize(size=(28,28)),\n",
        "    transforms.ToTensor(),\n",
        "    transforms.Normalize((0.1307,), (0.3081,))\n",
        "])\n",
        "\n",
        "train_dataset = torchvision.datasets.MNIST(root='./data', train=True, download=True, transform=transform)\n",
        "test_dataset = torchvision.datasets.MNIST(root='./data', train=False, download=True, transform=transform)\n",
        "\n",
        "train_loader = torch.utils.data.DataLoader(train_dataset, batch_size=32, shuffle=True)\n",
        "test_loader = torch.utils.data.DataLoader(test_dataset, batch_size=32, shuffle=False)\n"
      ],
      "metadata": {
        "id": "mAXzwKzCXJV0"
      },
      "execution_count": null,
      "outputs": []
    },
    {
      "cell_type": "code",
      "source": [
        "image_test, label = train_dataset[4]\n",
        "print(\"Shape của image\", image_test.shape)"
      ],
      "metadata": {
        "colab": {
          "base_uri": "https://localhost:8080/"
        },
        "id": "cF0BD14O_nbd",
        "outputId": "060ede81-9d7a-4b99-90ec-a67d122882b4"
      },
      "execution_count": null,
      "outputs": [
        {
          "output_type": "stream",
          "name": "stdout",
          "text": [
            "Shape của image torch.Size([1, 28, 28])\n"
          ]
        }
      ]
    },
    {
      "cell_type": "code",
      "source": [
        "class_name = train_dataset.classes\n",
        "class_name"
      ],
      "metadata": {
        "colab": {
          "base_uri": "https://localhost:8080/"
        },
        "id": "8IJgi76rYIXI",
        "outputId": "3fff435b-1a5e-4568-e47e-6676818007af"
      },
      "execution_count": null,
      "outputs": [
        {
          "output_type": "execute_result",
          "data": {
            "text/plain": [
              "['0 - zero',\n",
              " '1 - one',\n",
              " '2 - two',\n",
              " '3 - three',\n",
              " '4 - four',\n",
              " '5 - five',\n",
              " '6 - six',\n",
              " '7 - seven',\n",
              " '8 - eight',\n",
              " '9 - nine']"
            ]
          },
          "metadata": {},
          "execution_count": 18
        }
      ]
    },
    {
      "cell_type": "markdown",
      "source": [
        "# Built Model"
      ],
      "metadata": {
        "id": "H9P0roJ6leU2"
      }
    },
    {
      "cell_type": "code",
      "source": [
        "class Net(nn.Module):\n",
        "    def __init__(self):\n",
        "        super(Net, self).__init__()\n",
        "        self.linear1 = nn.Linear(28*28, 100) \n",
        "        self.linear2 = nn.Linear(100, 50) \n",
        "        self.final = nn.Linear(50, 10)\n",
        "        self.relu = nn.ReLU()\n",
        "\n",
        "    def forward(self, image):\n",
        "        x = image.view(-1, 28*28)\n",
        "        x = self.relu(self.linear1(x))\n",
        "        x = self.relu(self.linear2(x))\n",
        "        x = self.final(x)\n",
        "        return x"
      ],
      "metadata": {
        "id": "qkKkcn9Upnt2"
      },
      "execution_count": null,
      "outputs": []
    },
    {
      "cell_type": "code",
      "source": [
        "device = 'cuda:0' if torch.cuda.is_available() else 'cpu'\n",
        "model = Net()\n",
        "model = model.to(device)\n",
        "device"
      ],
      "metadata": {
        "colab": {
          "base_uri": "https://localhost:8080/",
          "height": 36
        },
        "id": "d1nB8qPTXJQh",
        "outputId": "26cca629-05c1-4e3d-860d-48c96f1d266a"
      },
      "execution_count": null,
      "outputs": [
        {
          "output_type": "execute_result",
          "data": {
            "text/plain": [
              "'cuda:0'"
            ],
            "application/vnd.google.colaboratory.intrinsic+json": {
              "type": "string"
            }
          },
          "metadata": {},
          "execution_count": 20
        }
      ]
    },
    {
      "cell_type": "markdown",
      "source": [
        "# Train Model\n"
      ],
      "metadata": {
        "id": "usJmibgLl2X7"
      }
    },
    {
      "cell_type": "code",
      "source": [
        "# train_step\n",
        "def train_step(model: torch.nn.Module,\n",
        "               dataset: torch.utils.data.DataLoader,\n",
        "               loss_fn: torch.nn.Module,\n",
        "               optimizer: torch.optim.Optimizer):\n",
        "      # setup train loss, acc\n",
        "      train_loss, train_acc = 0, 0\n",
        "\n",
        "      # put model into mode train\n",
        "      model.train()\n",
        "\n",
        "      # loop\n",
        "      for batch, (X, y) in enumerate(dataset):\n",
        "          #send X, y to device\n",
        "          X, y = X.to(device), y.to(device)\n",
        "\n",
        "          # 1. Forward\n",
        "          y_pred = model(X)\n",
        "\n",
        "          # 2. calculate loss\n",
        "          loss = loss_fn(y_pred, y)\n",
        "          train_loss += loss.item()\n",
        "\n",
        "          # 3. optimizer zero grad\n",
        "          optimizer.zero_grad()\n",
        "\n",
        "          # 4. backward\n",
        "          loss.backward()\n",
        "\n",
        "          # 5. update the optim\n",
        "          optimizer.step()\n",
        "\n",
        "          y_pred_class = torch.argmax(torch.softmax(y_pred, dim=1), dim=1)\n",
        "          train_acc += ((y_pred_class == y).sum().item()) / len(y_pred)\n",
        "      \n",
        "      # adjust metric\n",
        "      train_loss = train_loss / len(dataset)\n",
        "      train_acc = train_acc / len(dataset)\n",
        "      return train_loss, train_acc\n",
        "     "
      ],
      "metadata": {
        "id": "KvOIfBe-aOHy"
      },
      "execution_count": null,
      "outputs": []
    },
    {
      "cell_type": "code",
      "source": [
        "# test_step\n",
        "def test_step(model: torch.nn.Module,\n",
        "              dataset: torch.utils.data.DataLoader,\n",
        "              loss_fn: torch.nn.Module\n",
        "              ):\n",
        "  \n",
        "    # setup test loss, acc\n",
        "    test_loss, test_acc = 0, 0\n",
        "\n",
        "    # put model into eval\n",
        "    model.eval()\n",
        "\n",
        "    # loop\n",
        "    with torch.inference_mode():\n",
        "        for batch, (X, y) in enumerate(dataset):\n",
        "            # send X, y to device\n",
        "            X, y = X.to(device), y.to(device)\n",
        "\n",
        "            # 1. forward\n",
        "            test_pred = model(X)\n",
        "\n",
        "            # 2. calculate loss\n",
        "            loss = loss_fn(test_pred, y)\n",
        "            test_loss += loss.item()\n",
        "\n",
        "            test_pred_class = torch.argmax(torch.softmax(test_pred, dim = 1), dim=1)\n",
        "            test_acc += ((test_pred_class == y).sum().item()) / len(test_pred)\n",
        "\n",
        "        #adiust metric\n",
        "        test_loss = test_loss / len(dataset)\n",
        "        test_acc = test_acc / len(dataset)\n",
        "        return test_loss, test_acc\n",
        "     "
      ],
      "metadata": {
        "id": "-OxXJIJoaPJB"
      },
      "execution_count": null,
      "outputs": []
    },
    {
      "cell_type": "code",
      "source": [
        "# ket hop train_step voi test_step\n",
        "from tqdm.auto import tqdm\n",
        "\n",
        "def train(model: torch.nn.Module,\n",
        "          train_dataloader: torch.utils.data.DataLoader,\n",
        "          test_dataloader: torch.utils.data.DataLoader,\n",
        "          loss_fn: torch.nn.Module,\n",
        "          optimizer: torch.optim.Optimizer,\n",
        "          epochs: int):\n",
        "\n",
        "    # setup results\n",
        "    results = {\"train_loss\": [],\n",
        "               \"train_acc\": [],\n",
        "               \"test_loss\": [],\n",
        "               \"test_acc\": []}\n",
        "\n",
        "    torch.manual_seed(42)\n",
        "\n",
        "    # loop\n",
        "    for epoch in tqdm(range(epochs)):\n",
        "        train_loss, train_acc = train_step(model=model, dataset=train_loader, loss_fn=loss_fn, optimizer=optimizer)\n",
        "        test_loss, test_acc = test_step(model=model, dataset=test_loader, loss_fn=loss_fn)\n",
        "\n",
        "        print(f'Epoch: {epoch+1}')\n",
        "        print(f'Train_loss: {train_loss:.4f}')\n",
        "        print(f'Train_acc: {train_acc:.2f}')\n",
        "        print(f'Test_loss: {test_loss:.4f}')\n",
        "        print(f'Test_acc: {test_acc:.2f}')\n",
        "\n",
        "        results[\"train_loss\"].append(train_loss)\n",
        "        results[\"train_acc\"].append(train_acc)\n",
        "        results[\"test_loss\"].append(test_loss)\n",
        "        results[\"test_acc\"].append(test_acc)\n",
        "\n",
        "    return results\n",
        "     "
      ],
      "metadata": {
        "id": "WcKiqx4DaRsP"
      },
      "execution_count": null,
      "outputs": []
    },
    {
      "cell_type": "code",
      "source": [
        "# training\n",
        "epochs = 5\n",
        "\n",
        "loss_fn = nn.CrossEntropyLoss()\n",
        "optimizer = torch.optim.Adam(params=model.parameters(), lr=0.001)\n",
        "\n",
        "model_results = train(model=model, train_dataloader=train_loader, test_dataloader=test_loader,\n",
        "                      loss_fn=loss_fn, optimizer=optimizer, epochs=epochs)"
      ],
      "metadata": {
        "colab": {
          "base_uri": "https://localhost:8080/",
          "height": 483,
          "referenced_widgets": [
            "974b9148c1ab41a393d2c8973d253738",
            "80e9da7172c74332b221f02f98502080",
            "52623ee69fb34f71b34bcf813edf3c04",
            "438f5fb86d8c4b799c6d5e5f80cf6a9a",
            "7df16ff576dd4bad96c7841b5e176060",
            "7f9be6bcafea4f269436b18c982a6848",
            "0d0e08078c8048829652b177a0e56421",
            "af3dbdce9cb145648ffebb40220103e4",
            "d0cf0d6d54084572936d359740a39fd5",
            "51138bd6b1d34ff19c10b756f1e7866e",
            "864a622e70c847dea3a405dcad5c605e"
          ]
        },
        "id": "GO2hgMbgaNlI",
        "outputId": "2bac027b-e39d-48fd-bd91-e66d0424eb45"
      },
      "execution_count": null,
      "outputs": [
        {
          "output_type": "display_data",
          "data": {
            "text/plain": [
              "  0%|          | 0/5 [00:00<?, ?it/s]"
            ],
            "application/vnd.jupyter.widget-view+json": {
              "version_major": 2,
              "version_minor": 0,
              "model_id": "974b9148c1ab41a393d2c8973d253738"
            }
          },
          "metadata": {}
        },
        {
          "output_type": "stream",
          "name": "stdout",
          "text": [
            "Epoch: 1\n",
            "Train_loss: 0.3691\n",
            "Train_acc: 0.89\n",
            "Test_loss: 0.2962\n",
            "Test_acc: 0.91\n",
            "Epoch: 2\n",
            "Train_loss: 0.2966\n",
            "Train_acc: 0.92\n",
            "Test_loss: 0.2874\n",
            "Test_acc: 0.92\n",
            "Epoch: 3\n",
            "Train_loss: 0.2852\n",
            "Train_acc: 0.92\n",
            "Test_loss: 0.2752\n",
            "Test_acc: 0.92\n",
            "Epoch: 4\n",
            "Train_loss: 0.2806\n",
            "Train_acc: 0.92\n",
            "Test_loss: 0.2890\n",
            "Test_acc: 0.92\n",
            "Epoch: 5\n",
            "Train_loss: 0.2766\n",
            "Train_acc: 0.92\n",
            "Test_loss: 0.2802\n",
            "Test_acc: 0.92\n"
          ]
        }
      ]
    },
    {
      "cell_type": "markdown",
      "source": [
        "# Lưu và kiểm tra model\n"
      ],
      "metadata": {
        "id": "8tIy6DSbmA5x"
      }
    },
    {
      "cell_type": "code",
      "source": [
        "#save model\n",
        "torch.save(model.state_dict(), \"trained_model.pt\")\n",
        "\n",
        "#kiem tra kich thuoc model\n",
        "import os\n",
        "\n",
        "file_path = \"trained_model.pt\"\n",
        "file_size = os.path.getsize(file_path)\n",
        "print(\"File size:\", file_size, \"bytes\")\n",
        "\n",
        "#kiểm tra kiểu dữ liệu được sử dụng trong model\n",
        "for name, param in model.named_parameters():\n",
        "    print(f\"Parameter '{name}' dtype: {param.dtype}\")"
      ],
      "metadata": {
        "colab": {
          "base_uri": "https://localhost:8080/"
        },
        "id": "yFClUCfxdTA7",
        "outputId": "d64ac5b8-9e71-40b5-a160-b7edbb330e0a"
      },
      "execution_count": null,
      "outputs": [
        {
          "output_type": "stream",
          "name": "stdout",
          "text": [
            "File size: 32511 bytes\n",
            "Parameter 'fc.weight' dtype: torch.float32\n",
            "Parameter 'fc.bias' dtype: torch.float32\n"
          ]
        }
      ]
    },
    {
      "cell_type": "code",
      "source": [
        "import time\n",
        "import torchvision.transforms as transforms\n",
        "import torchvision.transforms.functional as F\n",
        "import matplotlib.pyplot as plt\n",
        "\n",
        "image_test, label = train_dataset[0]\n",
        "print(\"label true: \", label)\n",
        "transform_pred = transforms.Compose([\n",
        "    transforms.Resize((28, 28))\n",
        "])\n",
        "\n",
        "target_img = transform_pred(image_test)\n",
        "print(\"target_img\", target_img.shape)\n",
        "model.eval()\n",
        "\n",
        "with torch.inference_mode():\n",
        "    # them mot kic thuoc bo sung cho anh\n",
        "    target_img = target_img.unsqueeze(dim=0)\n",
        "    # make pred\n",
        "    start = time.time()\n",
        "    img_pred = model(target_img.to('cpu'))\n",
        "    end = time.time()\n",
        "\n",
        "time_infer = end - start\n",
        "# 6. convert logist\n",
        "img_pred_prob = torch.softmax(img_pred, dim=1)\n",
        "\n",
        "import numpy as np\n",
        "idx = torch.argmax(img_pred_prob, dim=1)\n",
        "\n",
        "print('Final top pred: ' + class_name[idx])\n",
        "print(\"Time infer: \", time_infer)\n",
        "plt.imshow(target_img.squeeze())\n"
      ],
      "metadata": {
        "colab": {
          "base_uri": "https://localhost:8080/",
          "height": 517
        },
        "id": "jFlJmnLAZD5Z",
        "outputId": "cf763be1-a028-4493-e636-9fd426967adc"
      },
      "execution_count": null,
      "outputs": [
        {
          "output_type": "stream",
          "name": "stdout",
          "text": [
            "label true:  5\n",
            "target_img torch.Size([1, 28, 28])\n",
            "Final top pred: 5 - five\n",
            "Time infer:  0.00012803077697753906\n"
          ]
        },
        {
          "output_type": "execute_result",
          "data": {
            "text/plain": [
              "<matplotlib.image.AxesImage at 0x7f8caee9c310>"
            ]
          },
          "metadata": {},
          "execution_count": 84
        },
        {
          "output_type": "display_data",
          "data": {
            "text/plain": [
              "<Figure size 640x480 with 1 Axes>"
            ],
            "image/png": "[encoded data removed]"
          },
          "metadata": {}
        }
      ]
    },
    {
      "cell_type": "markdown",
      "source": [
        "# Đánh giá về ACC và time của model trên tập test_data\n"
      ],
      "metadata": {
        "id": "0yxpp9GDq016"
      }
    },
    {
      "cell_type": "code",
      "source": [
        "# Evaluate the model on the test set\n",
        "import time\n",
        "model = model.to('cpu')\n",
        "model.eval()\n",
        "correct = 0\n",
        "total = 0\n",
        "sum_time = 0\n",
        "test_loader = torch.utils.data.DataLoader(test_dataset, batch_size=1, shuffle=False)\n",
        "total_predictions = 0\n",
        "\n",
        "with torch.no_grad():\n",
        "    for images, labels in test_loader:\n",
        "        images = images\n",
        "        labels = labels\n",
        "        start = time.time()\n",
        "        outputs = model(images)\n",
        "        _, predicted = torch.max(outputs.data, 1)\n",
        "        end = time.time()\n",
        "        total += labels.size(0)\n",
        "        correct += (predicted == labels).sum().item()\n",
        "        if predicted == labels:\n",
        "          probabilities = torch.softmax(outputs, dim=1)\n",
        "          a = torch.max(probabilities)\n",
        "          total_predictions = total_predictions + a\n",
        "\n",
        "        average_probability = total_predictions/total\n",
        "        time1 = end - start\n",
        "        sum_time = sum_time + time1\n",
        "\n",
        "accuracy = 100 * correct / total\n",
        "print(f'Accuracy of the model on the test set: {accuracy}%')\n",
        "print(\"time:\", time1)\n",
        "print(\"Xác xuất trung bình dự đoán mỗi ảnh trong toàn bộ tập ảnh: \" + str(average_probability.item() *100) + \"%\")"
      ],
      "metadata": {
        "id": "nqJVWPlfrtuA",
        "colab": {
          "base_uri": "https://localhost:8080/"
        },
        "outputId": "3fb8127f-edc5-484a-a855-682da36f249a"
      },
      "execution_count": null,
      "outputs": [
        {
          "output_type": "stream",
          "name": "stdout",
          "text": [
            "Accuracy of the model on the test set: 92.16%\n",
            "time: 5.340576171875e-05\n",
            "Xác xuất trung bình dự đoán mỗi ảnh trong toàn bộ tập ảnh: 86.92319393157959%\n"
          ]
        }
      ]
    },
    {
      "cell_type": "markdown",
      "source": [
        "# CONVERT model to ONNX"
      ],
      "metadata": {
        "id": "BD3RrkrX-xkm"
      }
    },
    {
      "cell_type": "code",
      "source": [
        "%%capture\n",
        "!pip install onnx\n",
        "!pip install torchvision\n",
        "!pip install onnx-tf\n",
        "!pip install onnxruntime-gpu"
      ],
      "metadata": {
        "id": "B6mtiLC8-ppn"
      },
      "execution_count": null,
      "outputs": []
    },
    {
      "cell_type": "code",
      "source": [
        "import torch\n",
        "import torch.nn as nn\n",
        "import torch.nn.functional as F\n",
        "import torch.optim as optim\n",
        "from torchvision import datasets, transforms\n",
        "from torch.autograd import Variable\n",
        "import torch.onnx\n",
        "import onnx\n",
        "\n",
        "print(\"PyTorch version:\", torch.__version__)\n",
        "print(\"ONNX version:\", onnx.__version__)"
      ],
      "metadata": {
        "colab": {
          "base_uri": "https://localhost:8080/"
        },
        "id": "l-xTBror-pnn",
        "outputId": "7cbf55be-ffe5-4c4e-b2f8-15c5b71d8662"
      },
      "execution_count": null,
      "outputs": [
        {
          "output_type": "stream",
          "name": "stdout",
          "text": [
            "PyTorch version: 2.0.1+cu118\n",
            "ONNX version: 1.14.0\n"
          ]
        }
      ]
    },
    {
      "cell_type": "code",
      "source": [
        "model = model.to('cpu')\n",
        "dummy_input = Variable(torch.randn(1, 1, 28, 28)) \n",
        "torch.onnx.export(model, dummy_input, \"model.onnx\")\n",
        "\n"
      ],
      "metadata": {
        "colab": {
          "base_uri": "https://localhost:8080/"
        },
        "id": "rY5vryFJ-plq",
        "outputId": "5e6e7573-febd-4725-c66d-634c8c86036a"
      },
      "execution_count": null,
      "outputs": [
        {
          "output_type": "stream",
          "name": "stdout",
          "text": [
            "============= Diagnostic Run torch.onnx.export version 2.0.1+cu118 =============\n",
            "verbose: False, log level: Level.ERROR\n",
            "======================= 0 NONE 0 NOTE 0 WARNING 0 ERROR ========================\n",
            "\n"
          ]
        }
      ]
    },
    {
      "cell_type": "markdown",
      "source": [
        "# Quantize từ FP32 sang FB16"
      ],
      "metadata": {
        "id": "X5JUZqMuxMDF"
      }
    },
    {
      "cell_type": "markdown",
      "source": [
        "**convert_float_to_float16(model, min_positive_val=1e-7, max_finite_val=1e4, keep_io_types=False, disable_shape_infer=False, op_block_list=None, node_block_list=None)**"
      ],
      "metadata": {
        "id": "IJ_c_MCLxV0m"
      }
    },
    {
      "cell_type": "markdown",
      "source": [
        "Float16 Tool Arguments\n",
        "\n",
        "If the converted model does not work or has poor accuracy, you may need to set additional arguments.\n",
        "\n",
        "model: The ONNX model to convert.\n",
        "\n",
        "min_positive_val, max_finite_val: Constant values will be clipped to these \n",
        "\n",
        "bounds. 0.0, nan, inf, and -inf will be unchanged.\n",
        "\n",
        "keep_io_types: Whether model inputs/outputs should be left as float32.\n",
        "\n",
        "disable_shape_infer: Skips running onnx shape/type inference. Useful if shape inference is crashing, shapes/types are already present in the model, or types are not needed (types are used to determine where cast ops are needed for unsupported/blocked ops).\n",
        "\n",
        "op_block_list: List of op types to leave as float32. By default uses the list from float16.DEFAULT_OP_BLOCK_LIST. This list has ops that are not supported for float16 in ONNX Runtime.\n",
        "\n",
        "node_block_list: List of node names to leave as float32.\n",
        "\n",
        "NOTE: Blocked ops will have have casts inserted around them to/from float16/float32. Currently, if two blocked ops are next to each other, the casts will still be inserted, creating a redundant pair. ORT will optimize this pair out at runtime, so the results will remain at full-precision."
      ],
      "metadata": {
        "id": "i4PpqsnOFTwJ"
      }
    },
    {
      "cell_type": "code",
      "source": [
        "%%capture\n",
        "!pip install onnxconverter_common"
      ],
      "metadata": {
        "id": "R0BqHuMsDi6c"
      },
      "execution_count": null,
      "outputs": []
    },
    {
      "cell_type": "code",
      "source": [
        "import onnx\n",
        "from onnxconverter_common import float16\n",
        "model_onnx = '/content/model.onnx'\n",
        "model_onnx = onnx.load(model_onnx)\n",
        "model_quant_fl16 = float16.convert_float_to_float16(model_onnx)\n",
        "onnx.save(model_quant_fl16, \"/content/model_quant_fl16.onnx\")"
      ],
      "metadata": {
        "id": "k0w4tskmCucS"
      },
      "execution_count": null,
      "outputs": []
    },
    {
      "cell_type": "code",
      "source": [
        "#kiem tra kich thuoc\n",
        "import os\n",
        "\n",
        "file_path = \"/content/model_quant_fl16.onnx\"\n",
        "file_size = os.path.getsize(file_path)\n",
        "print(\"File size:\", file_size, \"bytes\")"
      ],
      "metadata": {
        "colab": {
          "base_uri": "https://localhost:8080/"
        },
        "id": "i9cnk6kRDXNN",
        "outputId": "188eb192-4fdc-490b-a6e8-ed8c6b116cb7"
      },
      "execution_count": null,
      "outputs": [
        {
          "output_type": "stream",
          "name": "stdout",
          "text": [
            "File size: 16195 bytes\n"
          ]
        }
      ]
    },
    {
      "cell_type": "markdown",
      "source": [
        "# Kiểm tra model onnx_fl32 và onnx_fl16\n",
        "\n"
      ],
      "metadata": {
        "id": "h98z-ykDxqbo"
      }
    },
    {
      "cell_type": "code",
      "source": [
        "import onnxruntime\n",
        "import numpy as np\n",
        "from PIL import Image\n",
        "import time\n",
        "\n",
        "# Đường dẫn đến mô hình ONNX\n",
        "model_path = '/content/model.onnx'\n",
        "\n",
        "# Đọc ảnh và chuyển đổi thành numpy array\n",
        "image_array = np.array(image_test)\n",
        "image_array = np.expand_dims(image_array, axis=0)  # Thêm chiều batch\n",
        "\n",
        "# Khởi tạo môi trường ONNX Runtime và tạo session\n",
        "ort_session_fl32 = onnxruntime.InferenceSession(model_path, providers=['CUDAExecutionProvider'])\n",
        "\n",
        "# Chuẩn bị đầu vào cho mô hình\n",
        "input_name_fl32 = ort_session_fl32.get_inputs()[0].name\n",
        "image_fl32 = np.random.randn(1, 1, 28, 28).astype(np.float32)\n",
        "image_array_fl32 = image_array.reshape(1, 1, 28, 28).astype('float32')\n",
        "input_data_fl32 = {input_name_fl32: image_array_fl32}\n",
        "\n",
        "start = time.time()\n",
        "# Thực hiện inference\n",
        "outputs_fl32 = ort_session_fl32.run(None, input_data_fl32)\n",
        "end = time.time()\n",
        "\n",
        "time_infer_fl32 = end - start\n",
        "\n",
        "# Lấy kết quả dự đoán từ đầu ra của mô hình\n",
        "predictions_fl32 = outputs_fl32[0]\n",
        "\n",
        "# Hiển thị kết quả dự đoán\n",
        "predicted_class_fl32 = np.argmax(predictions_fl32)\n",
        "print(\"Predicted class fl32:\", predicted_class_fl32)\n",
        "print(\"Time infer fl32: \", time_infer_fl32)\n",
        "\n",
        "\n",
        "# Đường dẫn đến mô hình ONNX\n",
        "model_path = '/content/model_quant_fl16.onnx'\n",
        "\n",
        "# Đọc ảnh và chuyển đổi thành numpy array\n",
        "image_array = np.array(image_test)\n",
        "image_array = np.expand_dims(image_array, axis=0)  # Thêm chiều batch\n",
        "\n",
        "# Khởi tạo môi trường ONNX Runtime và tạo session\n",
        "ort_session_fl16 = onnxruntime.InferenceSession(model_path, providers=['CUDAExecutionProvider'])\n",
        "\n",
        "# Chuẩn bị đầu vào cho mô hình\n",
        "input_name_fl16 = ort_session_fl16.get_inputs()[0].name\n",
        "image_fl16 = np.random.randn(1, 1, 28, 28).astype(np.float16)\n",
        "image_array_fl16 = image_array.reshape(1, 1, 28, 28).astype('float16')\n",
        "input_data_fl16 = {input_name_fl16: image_array_fl16}\n",
        "\n",
        "start = time.time()\n",
        "# Thực hiện inference\n",
        "outputs_fl16 = ort_session_fl16.run(None, input_data_fl16)\n",
        "end = time.time()\n",
        "\n",
        "time_infer_fl16 = end - start\n",
        "\n",
        "# Lấy kết quả dự đoán từ đầu ra của mô hình\n",
        "predictions_fl16 = outputs_fl16[0]\n",
        "\n",
        "# Hiển thị kết quả dự đoán\n",
        "predicted_class_fl16 = np.argmax(predictions_fl16)\n",
        "print(\"Predicted class fl16:\", predicted_class_fl16)\n",
        "print(\"Time infer fl16: \", time_infer_fl16)\n",
        "plt.imshow(target_img.squeeze())"
      ],
      "metadata": {
        "colab": {
          "base_uri": "https://localhost:8080/",
          "height": 517
        },
        "id": "f4tKr6Tx0hEj",
        "outputId": "959e9b69-3382-491b-9502-175c35539b1f"
      },
      "execution_count": null,
      "outputs": [
        {
          "output_type": "stream",
          "name": "stdout",
          "text": [
            "Predicted class fl32: 5\n",
            "Time infer fl32:  0.0010843276977539062\n",
            "Predicted class fl16: 5\n",
            "Time infer fl16:  0.0008058547973632812\n"
          ]
        },
        {
          "output_type": "execute_result",
          "data": {
            "text/plain": [
              "<matplotlib.image.AxesImage at 0x7f8cae0543d0>"
            ]
          },
          "metadata": {},
          "execution_count": 119
        },
        {
          "output_type": "display_data",
          "data": {
            "text/plain": [
              "<Figure size 640x480 with 1 Axes>"
            ],
            "image/png": "[encoded data removed]"
          },
          "metadata": {}
        }
      ]
    },
    {
      "cell_type": "markdown",
      "source": [
        "# So sánh về ACC và time của onnx fp32 và fp16\n"
      ],
      "metadata": {
        "id": "feZXSqoJDlRy"
      }
    },
    {
      "cell_type": "code",
      "source": [
        "import numpy as np\n",
        "import time\n",
        "correct = 0\n",
        "total = 0\n",
        "total_time = 0\n",
        "total_predictions = 0\n",
        "for batch, (X, y) in enumerate(test_loader):\n",
        "\n",
        "    for count, x in enumerate(X):\n",
        "        x = np.expand_dims(x, 0).astype(np.float32)\n",
        "        x = x.reshape(1, 1, 28, 28).astype('float32')\n",
        "        input_data_fl32 = {input_name_fl32: x}\n",
        "        # Run inference\n",
        "        start_time = time.time()\n",
        "        outputs_fl32 = ort_session_fl32.run(None, input_data_fl32)\n",
        "        end_time = time.time()\n",
        "\n",
        "        total_time = total_time + end_time - start_time\n",
        "        output_tensor_fl32 = torch.from_numpy(outputs_fl32[0])\n",
        "        _, predicted = torch.max(output_tensor_fl32, 1)\n",
        "        if (predicted == y[count]):\n",
        "          correct = correct+1\n",
        "          probabilities = torch.softmax(output_tensor_fl32, dim=1)\n",
        "          a = torch.max(probabilities)\n",
        "          total_predictions = total_predictions + a\n",
        "\n",
        "        total = total+1\n",
        "average_probability = total_predictions/total       \n",
        "print('Accuracy fl32: ', correct/total)\n",
        "print('Total time fl32: {:.4f}'.format(total_time))\n",
        "print(\"Xác xuất trung bình dự đoán mỗi ảnh trong toàn bộ tập ảnh(onnx_fl32): \" + str(average_probability.item() *100) + \"%\")\n",
        "\n",
        "correct = 0\n",
        "total = 0\n",
        "total_time = 0\n",
        "total_predictions = 0\n",
        "for batch, (X, y) in enumerate(test_loader):\n",
        "\n",
        "    for count, x in enumerate(X):\n",
        "        x = np.expand_dims(x, 0).astype(np.float16)\n",
        "        x = x.reshape(1, 1, 28, 28).astype('float16')\n",
        "        input_data_fl16 = {input_name_fl16: x}\n",
        "        # Run inference\n",
        "        start_time = time.time()\n",
        "        outputs_fl16 = ort_session_fl16.run(None, input_data_fl16)\n",
        "        end_time = time.time()\n",
        "\n",
        "        total_time = total_time + end_time - start_time\n",
        "        output_tensor_fl16 = torch.from_numpy(outputs_fl16[0]).float()\n",
        "        _, predicted = torch.max(output_tensor_fl16, 1)\n",
        "        if (predicted == y[count]):\n",
        "          correct = correct+1\n",
        "          probabilities = torch.softmax(output_tensor_fl16, dim=1)\n",
        "          a1 = torch.max(probabilities)\n",
        "          total_predictions = total_predictions + a1\n",
        "        total = total +1\n",
        "\n",
        "average_probability = total_predictions/total\n",
        "        \n",
        "print('Accuracy fl16: ', correct/total)\n",
        "print('Total time fl32: {:.4f}'.format(total_time))\n",
        "print(\"Xác xuất trung bình dự đoán mỗi ảnh trong toàn bộ tập ảnh(onnx_fl16): \" + str(average_probability.item() *100) + \"%\")"
      ],
      "metadata": {
        "colab": {
          "base_uri": "https://localhost:8080/"
        },
        "id": "X3-x-TQ7r3Ik",
        "outputId": "ef15aa09-640a-4741-c840-3c51d82111ed"
      },
      "execution_count": null,
      "outputs": [
        {
          "output_type": "stream",
          "name": "stdout",
          "text": [
            "Accuracy fl32:  0.9216\n",
            "Total time fl32: 1.1757\n",
            "Xác xuất trung bình dự đoán mỗi ảnh trong toàn bộ tập ảnh(onnx_fl32): 86.92319393157959%\n",
            "Accuracy fl16:  0.9217\n",
            "Total time fl32: 1.1022\n",
            "Xác xuất trung bình dự đoán mỗi ảnh trong toàn bộ tập ảnh(onnx_fl16): 86.92911863327026%\n"
          ]
        }
      ]
    }
  ]
}