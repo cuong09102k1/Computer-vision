{
  "nbformat": 4,
  "nbformat_minor": 0,
  "metadata": {
    "colab": {
      "provenance": []
    },
    "kernelspec": {
      "name": "python3",
      "display_name": "Python 3"
    },
    "language_info": {
      "name": "python"
    }
  },
  "cells": [
    {
      "cell_type": "markdown",
      "source": [
        "# Tải ảnh và cài đặt một số thư viện\n"
      ],
      "metadata": {
        "id": "J8y67qk44EoI"
      }
    },
    {
      "cell_type": "code",
      "execution_count": null,
      "metadata": {
        "id": "YmQYvdi-EDiU"
      },
      "outputs": [],
      "source": [
        "# get image\n",
        "%cd /content\n",
        "!mkdir test_images\n",
        "%cd test_images\n",
        "!wget https://aambassador.com/images/car/car-3z.jpg\n"
      ]
    },
    {
      "cell_type": "code",
      "source": [
        "!pip install tensorflow tf2onnx"
      ],
      "metadata": {
        "id": "9MOrD7ShEPXC"
      },
      "execution_count": null,
      "outputs": []
    },
    {
      "cell_type": "code",
      "source": [
        "!pip install onnxruntime"
      ],
      "metadata": {
        "id": "9h-rvz_5EcDK"
      },
      "execution_count": null,
      "outputs": []
    },
    {
      "cell_type": "code",
      "source": [
        "import os\n",
        "import tensorflow as tf\n",
        "from tensorflow.keras.applications.resnet50 import ResNet50\n",
        "from tensorflow.keras.preprocessing import image\n",
        "from tensorflow.keras.applications.resnet50 import preprocess_input, decode_predictions\n",
        "import numpy as np\n",
        "import onnxruntime\n",
        "\n",
        "img_path = '/content/test_images/car-3z.jpg'\n",
        "\n",
        "img = image.load_img(img_path, target_size=(224, 224))\n",
        "\n",
        "x = image.img_to_array(img)\n",
        "x = np.expand_dims(x, axis=0)\n",
        "x = preprocess_input(x)"
      ],
      "metadata": {
        "id": "dbDsyoTiEPVP"
      },
      "execution_count": null,
      "outputs": []
    },
    {
      "cell_type": "code",
      "source": [
        "print(x.shape)\n",
        "y = x[0]\n",
        "print(y.shape)"
      ],
      "metadata": {
        "colab": {
          "base_uri": "https://localhost:8080/"
        },
        "id": "wlwD4003IvG1",
        "outputId": "9d0574ff-97f4-486a-aa71-9d65dd0e87d4"
      },
      "execution_count": null,
      "outputs": [
        {
          "output_type": "stream",
          "name": "stdout",
          "text": [
            "(1, 224, 224, 3)\n",
            "(224, 224, 3)\n"
          ]
        }
      ]
    },
    {
      "cell_type": "code",
      "source": [
        "import matplotlib.pyplot as plt\n",
        "plt.imshow(x[0])\n",
        "plt.show()"
      ],
      "metadata": {
        "id": "d4b0nhOtHRlO"
      },
      "execution_count": null,
      "outputs": []
    },
    {
      "cell_type": "markdown",
      "source": [
        "# Convert model Resnet50 từ tensoflow sang ONNX"
      ],
      "metadata": {
        "id": "DS369XOS4MLY"
      }
    },
    {
      "cell_type": "code",
      "source": [
        "model = ResNet50(weights='imagenet')\n",
        "\n",
        "preds = model.predict(x)\n",
        "print('Keras Predicted:', decode_predictions(preds, top=3)[0])\n",
        "model.save(os.path.join(\"/tmp\", model.name))"
      ],
      "metadata": {
        "id": "59aJbRMsEPRh"
      },
      "execution_count": null,
      "outputs": []
    },
    {
      "cell_type": "code",
      "source": [
        "#convert\n",
        "import tf2onnx\n",
        "import onnxruntime as rt\n",
        "\n",
        "spec = (tf.TensorSpec((None, 224, 224, 3), tf.float32, name=\"input\"),)\n",
        "output_path = model.name + \".onnx\"\n",
        "\n",
        "model_proto, _ = tf2onnx.convert.from_keras(model, input_signature=spec, opset=13, output_path=output_path)\n",
        "output_names = [n.name for n in model_proto.graph.output]"
      ],
      "metadata": {
        "id": "Gc31juD-EPPb"
      },
      "execution_count": null,
      "outputs": []
    },
    {
      "cell_type": "markdown",
      "source": [
        "# Kiểm tra model"
      ],
      "metadata": {
        "id": "cVD1DIaY4Z7E"
      }
    },
    {
      "cell_type": "code",
      "source": [
        "#Run the ONNX model\n",
        "providers = ['CPUExecutionProvider']\n",
        "m = rt.InferenceSession(output_path, providers=providers)\n",
        "onnx_pred = m.run(output_names, {\"input\": x})\n",
        "\n",
        "print('ONNX Predicted:', decode_predictions(onnx_pred[0], top=3)[0])\n",
        "\n",
        "# make sure ONNX and keras have the same results\n",
        "np.testing.assert_allclose(preds, onnx_pred[0], rtol=1e-5)"
      ],
      "metadata": {
        "colab": {
          "base_uri": "https://localhost:8080/"
        },
        "id": "ny00I5h-EPNq",
        "outputId": "9d88b534-52cd-44e1-c355-ded834439372"
      },
      "execution_count": null,
      "outputs": [
        {
          "output_type": "stream",
          "name": "stdout",
          "text": [
            "ONNX Predicted: [('n03930630', 'pickup', 0.29420894), ('n02814533', 'beach_wagon', 0.21882463), ('n03459775', 'grille', 0.19729643)]\n"
          ]
        }
      ]
    }
  ]
}