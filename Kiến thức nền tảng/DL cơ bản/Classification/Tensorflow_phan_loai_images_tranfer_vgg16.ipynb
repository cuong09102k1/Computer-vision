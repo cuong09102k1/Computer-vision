{
  "nbformat": 4,
  "nbformat_minor": 0,
  "metadata": {
    "colab": {
      "provenance": []
    },
    "kernelspec": {
      "name": "python3",
      "display_name": "Python 3"
    },
    "language_info": {
      "name": "python"
    },
    "accelerator": "GPU"
  },
  "cells": [
    {
      "cell_type": "code",
      "execution_count": null,
      "metadata": {
        "id": "P_at0PsAv0ag"
      },
      "outputs": [],
      "source": [
        "from os import listdir\n",
        "import cv2\n",
        "import numpy as np\n",
        "import pickle\n",
        "from sklearn.preprocessing import OneHotEncoder\n",
        "from sklearn.model_selection import train_test_split\n",
        "from keras.applications.vgg16 import VGG16\n",
        "from keras.layers import Input, Flatten, Dense, Dropout\n",
        "from keras.models import Model\n",
        "from keras.callbacks import ModelCheckpoint\n",
        "import matplotlib.pyplot as plt\n",
        "import random\n",
        "from keras.preprocessing.image import ImageDataGenerator"
      ]
    },
    {
      "cell_type": "code",
      "source": [
        "from google.colab import drive\n",
        "drive.mount('/content/drive')"
      ],
      "metadata": {
        "id": "YKb96qjeSec_"
      },
      "execution_count": null,
      "outputs": []
    },
    {
      "cell_type": "code",
      "source": [
        "!pip install -q kaggle\n",
        "from google.colab import files\n",
        "files.upload()\n",
        "# Chọn file kaggle.json tải về ở bước 2 để tải lên\n",
        "\n",
        "!mkdir '/root/.kaggle'\n",
        "!cp kaggle.json '/root/.kaggle'\n",
        "!chmod 600 /root/.kaggle/kaggle.json\n",
        "\n",
        "!kaggle datasets list\n",
        "# Chạy lệnh liệt kê các bộ dữ liệu của bạn để đảm bảo bạn đã cài đặt thành công"
      ],
      "metadata": {
        "id": "UdDlVikwtoPl",
        "colab": {
          "base_uri": "https://localhost:8080/",
          "height": 474
        },
        "outputId": "124373c9-49ad-4406-9516-504e0cb72139"
      },
      "execution_count": null,
      "outputs": [
        {
          "output_type": "display_data",
          "data": {
            "text/plain": [
              "<IPython.core.display.HTML object>"
            ],
            "text/html": [
              "\n",
              "     <input type=\"file\" id=\"files-15cf2d8b-3420-479a-84a5-7041218d70b2\" name=\"files[]\" multiple disabled\n",
              "        style=\"border:none\" />\n",
              "     <output id=\"result-15cf2d8b-3420-479a-84a5-7041218d70b2\">\n",
              "      Upload widget is only available when the cell has been executed in the\n",
              "      current browser session. Please rerun this cell to enable.\n",
              "      </output>\n",
              "      <script>// Copyright 2017 Google LLC\n",
              "//\n",
              "// Licensed under the Apache License, Version 2.0 (the \"License\");\n",
              "// you may not use this file except in compliance with the License.\n",
              "// You may obtain a copy of the License at\n",
              "//\n",
              "//      http://www.apache.org/licenses/LICENSE-2.0\n",
              "//\n",
              "// Unless required by applicable law or agreed to in writing, software\n",
              "// distributed under the License is distributed on an \"AS IS\" BASIS,\n",
              "// WITHOUT WARRANTIES OR CONDITIONS OF ANY KIND, either express or implied.\n",
              "// See the License for the specific language governing permissions and\n",
              "// limitations under the License.\n",
              "\n",
              "/**\n",
              " * @fileoverview Helpers for google.colab Python module.\n",
              " */\n",
              "(function(scope) {\n",
              "function span(text, styleAttributes = {}) {\n",
              "  const element = document.createElement('span');\n",
              "  element.textContent = text;\n",
              "  for (const key of Object.keys(styleAttributes)) {\n",
              "    element.style[key] = styleAttributes[key];\n",
              "  }\n",
              "  return element;\n",
              "}\n",
              "\n",
              "// Max number of bytes which will be uploaded at a time.\n",
              "const MAX_PAYLOAD_SIZE = 100 * 1024;\n",
              "\n",
              "function _uploadFiles(inputId, outputId) {\n",
              "  const steps = uploadFilesStep(inputId, outputId);\n",
              "  const outputElement = document.getElementById(outputId);\n",
              "  // Cache steps on the outputElement to make it available for the next call\n",
              "  // to uploadFilesContinue from Python.\n",
              "  outputElement.steps = steps;\n",
              "\n",
              "  return _uploadFilesContinue(outputId);\n",
              "}\n",
              "\n",
              "// This is roughly an async generator (not supported in the browser yet),\n",
              "// where there are multiple asynchronous steps and the Python side is going\n",
              "// to poll for completion of each step.\n",
              "// This uses a Promise to block the python side on completion of each step,\n",
              "// then passes the result of the previous step as the input to the next step.\n",
              "function _uploadFilesContinue(outputId) {\n",
              "  const outputElement = document.getElementById(outputId);\n",
              "  const steps = outputElement.steps;\n",
              "\n",
              "  const next = steps.next(outputElement.lastPromiseValue);\n",
              "  return Promise.resolve(next.value.promise).then((value) => {\n",
              "    // Cache the last promise value to make it available to the next\n",
              "    // step of the generator.\n",
              "    outputElement.lastPromiseValue = value;\n",
              "    return next.value.response;\n",
              "  });\n",
              "}\n",
              "\n",
              "/**\n",
              " * Generator function which is called between each async step of the upload\n",
              " * process.\n",
              " * @param {string} inputId Element ID of the input file picker element.\n",
              " * @param {string} outputId Element ID of the output display.\n",
              " * @return {!Iterable<!Object>} Iterable of next steps.\n",
              " */\n",
              "function* uploadFilesStep(inputId, outputId) {\n",
              "  const inputElement = document.getElementById(inputId);\n",
              "  inputElement.disabled = false;\n",
              "\n",
              "  const outputElement = document.getElementById(outputId);\n",
              "  outputElement.innerHTML = '';\n",
              "\n",
              "  const pickedPromise = new Promise((resolve) => {\n",
              "    inputElement.addEventListener('change', (e) => {\n",
              "      resolve(e.target.files);\n",
              "    });\n",
              "  });\n",
              "\n",
              "  const cancel = document.createElement('button');\n",
              "  inputElement.parentElement.appendChild(cancel);\n",
              "  cancel.textContent = 'Cancel upload';\n",
              "  const cancelPromise = new Promise((resolve) => {\n",
              "    cancel.onclick = () => {\n",
              "      resolve(null);\n",
              "    };\n",
              "  });\n",
              "\n",
              "  // Wait for the user to pick the files.\n",
              "  const files = yield {\n",
              "    promise: Promise.race([pickedPromise, cancelPromise]),\n",
              "    response: {\n",
              "      action: 'starting',\n",
              "    }\n",
              "  };\n",
              "\n",
              "  cancel.remove();\n",
              "\n",
              "  // Disable the input element since further picks are not allowed.\n",
              "  inputElement.disabled = true;\n",
              "\n",
              "  if (!files) {\n",
              "    return {\n",
              "      response: {\n",
              "        action: 'complete',\n",
              "      }\n",
              "    };\n",
              "  }\n",
              "\n",
              "  for (const file of files) {\n",
              "    const li = document.createElement('li');\n",
              "    li.append(span(file.name, {fontWeight: 'bold'}));\n",
              "    li.append(span(\n",
              "        `(${file.type || 'n/a'}) - ${file.size} bytes, ` +\n",
              "        `last modified: ${\n",
              "            file.lastModifiedDate ? file.lastModifiedDate.toLocaleDateString() :\n",
              "                                    'n/a'} - `));\n",
              "    const percent = span('0% done');\n",
              "    li.appendChild(percent);\n",
              "\n",
              "    outputElement.appendChild(li);\n",
              "\n",
              "    const fileDataPromise = new Promise((resolve) => {\n",
              "      const reader = new FileReader();\n",
              "      reader.onload = (e) => {\n",
              "        resolve(e.target.result);\n",
              "      };\n",
              "      reader.readAsArrayBuffer(file);\n",
              "    });\n",
              "    // Wait for the data to be ready.\n",
              "    let fileData = yield {\n",
              "      promise: fileDataPromise,\n",
              "      response: {\n",
              "        action: 'continue',\n",
              "      }\n",
              "    };\n",
              "\n",
              "    // Use a chunked sending to avoid message size limits. See b/62115660.\n",
              "    let position = 0;\n",
              "    do {\n",
              "      const length = Math.min(fileData.byteLength - position, MAX_PAYLOAD_SIZE);\n",
              "      const chunk = new Uint8Array(fileData, position, length);\n",
              "      position += length;\n",
              "\n",
              "      const base64 = btoa(String.fromCharCode.apply(null, chunk));\n",
              "      yield {\n",
              "        response: {\n",
              "          action: 'append',\n",
              "          file: file.name,\n",
              "          data: base64,\n",
              "        },\n",
              "      };\n",
              "\n",
              "      let percentDone = fileData.byteLength === 0 ?\n",
              "          100 :\n",
              "          Math.round((position / fileData.byteLength) * 100);\n",
              "      percent.textContent = `${percentDone}% done`;\n",
              "\n",
              "    } while (position < fileData.byteLength);\n",
              "  }\n",
              "\n",
              "  // All done.\n",
              "  yield {\n",
              "    response: {\n",
              "      action: 'complete',\n",
              "    }\n",
              "  };\n",
              "}\n",
              "\n",
              "scope.google = scope.google || {};\n",
              "scope.google.colab = scope.google.colab || {};\n",
              "scope.google.colab._files = {\n",
              "  _uploadFiles,\n",
              "  _uploadFilesContinue,\n",
              "};\n",
              "})(self);\n",
              "</script> "
            ]
          },
          "metadata": {}
        },
        {
          "output_type": "stream",
          "name": "stdout",
          "text": [
            "Saving kaggle.json to kaggle.json\n",
            "ref                                                           title                                             size  lastUpdated          downloadCount  voteCount  usabilityRating  \n",
            "------------------------------------------------------------  -----------------------------------------------  -----  -------------------  -------------  ---------  ---------------  \n",
            "salvatorerastelli/spotify-and-youtube                         Spotify and Youtube                                9MB  2023-03-20 15:43:25           3878        152  1.0              \n",
            "ashishraut64/global-methane-emissions                         Global Emissions.                                 31KB  2023-03-27 09:02:51           1088         34  1.0              \n",
            "thitiwat/top-100-most-expensive-football-transfers            ⚽ Top 100 most expensive football transfers        2KB  2023-03-27 04:06:28            650         26  1.0              \n",
            "davidms8/product-sales-detail                                 Product Sales - Detail 2023                        2MB  2023-03-15 14:50:30           1538         43  0.8235294        \n",
            "dgoenrique/netflix-movies-and-tv-shows                        Netflix Movies and TV Shows                        2MB  2023-03-13 18:49:00           2518         67  1.0              \n",
            "lamiatabassum/top-50-us-tech-companies-2022-2023-dataset      USA Tech Companies Stats                           2KB  2023-03-25 06:06:20            871         31  1.0              \n",
            "arnabchaki/popular-video-games-1980-2023                      Popular Video Games 1980 - 2023 🎮                  1MB  2023-03-23 16:16:51           2084         68  1.0              \n",
            "rkiattisak/student-performance-in-mathematics                 Student performance prediction                     9KB  2023-03-12 04:32:56           5163        110  1.0              \n",
            "usamabuttar/world-happiness-report-2005-present               World Happiness Report, 2005-Present             123KB  2023-03-25 17:38:26           1239         36  1.0              \n",
            "datascientistanna/customers-dataset                           Shop Customer Data                                23KB  2023-02-07 18:42:21          17826        370  1.0              \n",
            "pardeep19singh/indian-premier-league-cricket-2023             Indian Premier League Cricket (2023)              11KB  2023-04-04 23:38:56            331         22  0.9411765        \n",
            "kylegraupe/ukrainerussia-conflict-dataset                     Ukraine/Russia Conflict Dataset                    4MB  2023-03-27 16:51:19            626         34  0.9411765        \n",
            "mehmettahiraslan/customer-shopping-dataset                    Customer Shopping Dataset - Retail Sales Data      2MB  2023-03-09 07:44:35           3370         73  1.0              \n",
            "ulrikthygepedersen/meat-consumption                           Meat Consumption                                 137KB  2023-03-02 09:59:13            999         25  1.0              \n",
            "rajkumarpandey02/list-of-countries-by-gdp-sector-composition  List of Countries by GDP Sector Composition        8KB  2023-03-20 04:42:10           1669         58  1.0              \n",
            "ajaypalsinghlo/world-happiness-report-2023                    World Happiness Report 2023                        7KB  2023-03-22 07:29:42           1427         41  0.9411765        \n",
            "amaanansari09/most-streamed-songs-all-time                    Most Streamed Songs (All Time)                     8KB  2023-03-08 10:56:24           3741         82  1.0              \n",
            "mazlumi/mbti-personality-type-twitter-dataset                 MBTI Personality Type Twitter Dataset             33MB  2023-03-22 12:11:45            450         36  1.0              \n",
            "shreyajagani13/used-car-dataset                               Used Car Dataset                                  12KB  2023-03-19 06:38:54           1527         34  1.0              \n",
            "hrokrin/the-largest-diamond-dataset-currely-on-kaggle         The largest diamond dataset currently on Kaggle    4MB  2023-03-16 20:29:04            516         23  1.0              \n"
          ]
        }
      ]
    },
    {
      "cell_type": "code",
      "source": [
        "!kaggle datasets download -d hasibalmuzdadid/shoe-vs-sandal-vs-boot-dataset-15k-images"
      ],
      "metadata": {
        "colab": {
          "base_uri": "https://localhost:8080/"
        },
        "id": "u57hOtPjt9Yt",
        "outputId": "64e3fb97-c93a-421f-f0db-eff24774518d"
      },
      "execution_count": null,
      "outputs": [
        {
          "output_type": "stream",
          "name": "stdout",
          "text": [
            "Downloading shoe-vs-sandal-vs-boot-dataset-15k-images.zip to /content\n",
            " 94% 44.0M/47.0M [00:03<00:00, 20.2MB/s]\n",
            "100% 47.0M/47.0M [00:03<00:00, 15.9MB/s]\n"
          ]
        }
      ]
    },
    {
      "cell_type": "code",
      "source": [
        "!unzip -q shoe-vs-sandal-vs-boot-dataset-15k-images.zip"
      ],
      "metadata": {
        "id": "sErhXftIuy8b"
      },
      "execution_count": null,
      "outputs": []
    },
    {
      "cell_type": "code",
      "source": [
        "raw_folder = \"/content/Shoe vs Sandal vs Boot Dataset/\""
      ],
      "metadata": {
        "id": "CRIZTEzCwFnb"
      },
      "execution_count": null,
      "outputs": []
    },
    {
      "cell_type": "code",
      "source": [
        "def save_data(raw_folder=raw_folder):\n",
        "    dest_size=(128,128)\n",
        "    print(\"Start Processing\")\n",
        "    pixels = []\n",
        "    labels = []\n",
        "\n",
        "    #load tung thu muc con\n",
        "    for folder in listdir(raw_folder):\n",
        "        if folder!='.DS_Store':\n",
        "            print(\"Folder=\", folder)\n",
        "            # load cac anh\n",
        "            for file in listdir(raw_folder+folder):\n",
        "                print(\"File=\",file)\n",
        "                pixels.append(cv2.resize(cv2.imread(raw_folder+folder+\"/\"+file), dsize=(dest_size)))#doc cac anh va luu lam pixels\n",
        "                labels.append(folder)#lay labels la cac thu muc con chua cac anh\n",
        "\n",
        "    pixels=np.array(pixels)\n",
        "    labels = np.array(labels) #reshape(-1,1)\n",
        "\n",
        "    from sklearn.preprocessing import LabelBinarizer\n",
        "    encoder = LabelBinarizer()\n",
        "    labels = encoder.fit_transform(labels)\n",
        "    # print(labels)\n",
        "\n",
        "    file = open('pix.data', 'wb')\n",
        "    # ket xuat thong tin vao tep do\n",
        "    pickle.dump((pixels, labels), file)\n",
        "    # dong file\n",
        "    file.close()\n",
        "    return\n",
        "\n",
        "def load_data():\n",
        "    file = open('pix.data', 'rb')\n",
        "    (pixels, labels)= pickle.load(file)\n",
        "    file.close()\n",
        "    # print(pixels.shape)\n",
        "    # print(labels.shape)\n",
        "    return pixels, labels"
      ],
      "metadata": {
        "id": "Mna7jK53wMqI"
      },
      "execution_count": null,
      "outputs": []
    },
    {
      "cell_type": "code",
      "source": [
        "print(pixels.shape)"
      ],
      "metadata": {
        "id": "xjUi5Zbd6eVZ"
      },
      "execution_count": null,
      "outputs": []
    },
    {
      "cell_type": "code",
      "source": [
        "save_data()\n",
        "X,y=load_data()\n",
        "X_train, X_test, y_train, y_test=train_test_split(X,y, test_size=0.2, random_state=100)\n",
        "print(X_train.shape)\n",
        "print(y_train.shape)"
      ],
      "metadata": {
        "id": "CyILa4MuwIsB"
      },
      "execution_count": null,
      "outputs": []
    },
    {
      "cell_type": "code",
      "source": [
        "def get_model():\n",
        "    model_vgg16_conv=VGG16(weights='imagenet', include_top=False)\n",
        "\n",
        "    #dong bang cac layer\n",
        "    for layer in model_vgg16_conv.layers:\n",
        "        layer.trainable=False\n",
        "\n",
        "    #tao model\n",
        "    input = Input(shape=(128,128,3), name='image_input')\n",
        "    output_vgg16_conv=model_vgg16_conv(input)\n",
        "\n",
        "    #them cac layer FC va Dropout\n",
        "    x = Flatten(name='flatten')(output_vgg16_conv)\n",
        "    x = Dense(4096, activation='relu', name='fc1')(x)\n",
        "    x = Dropout(0.5)(x)\n",
        "    x = Dense(4096, activation='relu', name='fc2')(x)\n",
        "    x = Dropout(0.5)(x)\n",
        "    x = Dense(3, activation='softmax    ', name='predictions')(x)\n",
        "\n",
        "    #compile\n",
        "    my_model = Model(inputs=input, outputs=x)\n",
        "    my_model.compile(loss='categorical_crossentropy', optimizer='adam', metrics=['accuracy'])\n",
        "\n",
        "    return my_model\n"
      ],
      "metadata": {
        "id": "UEz1Ol7kpQr-"
      },
      "execution_count": null,
      "outputs": []
    },
    {
      "cell_type": "code",
      "source": [
        "vggmodel = get_model()"
      ],
      "metadata": {
        "id": "_PoMsgdMtFn6",
        "colab": {
          "base_uri": "https://localhost:8080/"
        },
        "outputId": "64ecc3fb-bf50-46fe-fdb1-4137c70ff94c"
      },
      "execution_count": null,
      "outputs": [
        {
          "output_type": "stream",
          "name": "stdout",
          "text": [
            "Downloading data from https://storage.googleapis.com/tensorflow/keras-applications/vgg16/vgg16_weights_tf_dim_ordering_tf_kernels_notop.h5\n",
            "58889256/58889256 [==============================] - 3s 0us/step\n"
          ]
        }
      ]
    },
    {
      "cell_type": "code",
      "source": [
        "filepath = \"weights-{epoch:02d}-{val_accuracy:.4f}.hdf5\"\n",
        "checkpoint = ModelCheckpoint(filepath, monitor='val_accuracy', verbose=1,save_best_only=True, mode='max')\n",
        "callbacks_list = [checkpoint]\n",
        "\n",
        "#xay dung dao tao hinh anh de tang cuong du lieu\n",
        "aug = ImageDataGenerator(\n",
        "                         rotation_range=20,\n",
        "                         zoom_range=0.1,\n",
        "                         rescale=1./255,\n",
        "                         width_shift_range=0.1,\n",
        "                         height_shift_range=0.1,\n",
        "                         horizontal_flip=True,\n",
        "                         brightness_range=[0.2,1.5],\n",
        "                         fill_mode=\"nearest\",\n",
        "                         shear_range = 1\n",
        "                         )\n",
        "#aug_val=ImageDataGenerator(rescale=1./255)\n",
        "train_generator = aug.flow(X_train, y_train,batch_size= 32,shuffle=True, seed = 42)\n",
        "n_augmented_images = train_generator.n\n",
        "print(n_augmented_images)\n",
        "#vggmodel.fit_generator(train_generator, epochs= 10, validation_data = aug.flow(X_test, y_test, batch_size=64), callbacks=callbacks_list)\n",
        "\n",
        "                       \n",
        "\n",
        "                       \n"
      ],
      "metadata": {
        "id": "XI6G-p4EpTXd",
        "colab": {
          "base_uri": "https://localhost:8080/"
        },
        "outputId": "3ac264f2-fd64-4fe8-a82f-b00eb74ba35c"
      },
      "execution_count": null,
      "outputs": [
        {
          "output_type": "stream",
          "name": "stdout",
          "text": [
            "12000\n"
          ]
        }
      ]
    },
    {
      "cell_type": "code",
      "source": [],
      "metadata": {
        "id": "7o6gTMYti4_5"
      },
      "execution_count": null,
      "outputs": []
    },
    {
      "cell_type": "code",
      "source": [],
      "metadata": {
        "id": "PfeebF23i5On"
      },
      "execution_count": null,
      "outputs": []
    },
    {
      "cell_type": "code",
      "source": [
        "# tạo đối tượng ImageDataGenerator cho train set\n",
        "aug_train = ImageDataGenerator(\n",
        "    rotation_range=20, \n",
        "    zoom_range=0.1,\n",
        "    rescale=1./255,\n",
        "    width_shift_range=0.1,\n",
        "    height_shift_range=0.1,\n",
        "    horizontal_flip=True,\n",
        "    brightness_range=[0.2,1.5], \n",
        "    fill_mode=\"nearest\"\n",
        ")\n",
        "batch_size = 64\n",
        "# Tạo generator cho train set\n",
        "train_generator = aug_train.flow(X_train, y_train, batch_size, shuffle=True)\n",
        "\n",
        "# Lấy số lượng ảnh được sinh ra trong quá trình augmenting\n",
        "n_augmented_images = train_generator.n\n",
        "\n",
        "# Tính số lượng bước để huấn luyện cho mỗi epoch\n",
        "steps_per_epoch = int(np.ceil(n_augmented_images / batch_size))\n",
        "\n",
        "# Tạo một mảng numpy để lưu dữ liệu sau khi augmenting\n",
        "X_augmented = np.zeros((n_augmented_images, 128, 128, 3))\n",
        "y_augmented = np.zeros((n_augmented_images, 3))\n",
        "\n",
        "# Lấy dữ liệu sau khi augmenting và lưu vào mảng numpy\n",
        "batch_index = 0\n",
        "print(len(train_generator))\n",
        "for x_batch, y_batch in train_generator:\n",
        "    for i in range(x_batch.shape[0]):\n",
        "        print(x_batch[i].dtype)\n",
        "        X_augmented[batch_index] = x_batch[i]\n",
        "        y_augmented[batch_index] = y_batch[i]\n",
        "        batch_index += 1\n",
        "    print(batch_index)\n",
        "    if batch_index >= (n_augmented_images/1000):\n",
        "        break\n",
        "\n",
        "# Kết hợp dữ liệu ban đầu và dữ liệu được sinh ra từ augmenting\n",
        "X_train_augmented = np.concatenate((X_train, X_augmented))\n",
        "y_train_augmented = np.concatenate((y_train, y_augmented))\n",
        "\n",
        "# Xác nhận số lượng ảnh đã được tăng lên\n",
        "print(\"Tổng số ảnh được sinh ra trong quá trình augmenting:\", n_augmented_images)\n",
        "print(\"Tổng số ảnh sau khi làm giàu dữ liệu:\", len(X_train_augmented))\n",
        "\n",
        "vggmodel.fit_generator(aug_train.flow(X_train, y_train, batch_size= 64), epochs= 10, validation_data = aug_train.flow(X_test, y_test, batch_size=64), callbacks=callbacks_list)"
      ],
      "metadata": {
        "id": "mhGgp_3pzlBZ"
      },
      "execution_count": null,
      "outputs": []
    },
    {
      "cell_type": "code",
      "source": [
        "\n",
        "vggmodel.save(\"vggmodel.h5\")"
      ],
      "metadata": {
        "id": "T-cvQKQzhC79"
      },
      "execution_count": null,
      "outputs": []
    },
    {
      "cell_type": "code",
      "source": [
        "import os\n",
        "filesize = os.path.getsize('/content/weights-10-0.95.hdf5')\n",
        "print(f'Kích thước của tập tin là {filesize} bytes.')\n",
        "KB = 1024\n",
        "MB = KB * 1024\n",
        "GB = MB * 1024\n",
        "\n",
        "filesize_in_kb = filesize / KB\n",
        "filesize_in_mb = filesize / MB\n",
        "filesize_in_gb = filesize / GB\n",
        "print(filesize_in_gb)"
      ],
      "metadata": {
        "colab": {
          "base_uri": "https://localhost:8080/"
        },
        "id": "uxDtfWT-HKJb",
        "outputId": "b15ee9a9-84cd-42ce-cf9a-ab51c0a4b797"
      },
      "execution_count": null,
      "outputs": [
        {
          "output_type": "stream",
          "name": "stdout",
          "text": [
            "Kích thước của tập tin là 663165272 bytes.\n",
            "0.6176207885146141\n"
          ]
        }
      ]
    },
    {
      "cell_type": "code",
      "source": [
        "vggmodel.save(\"vggmodel.h5\")"
      ],
      "metadata": {
        "id": "NlfqTJSnhfDE"
      },
      "execution_count": null,
      "outputs": []
    },
    {
      "cell_type": "code",
      "source": [
        "from os import listdir\n",
        "import cv2\n",
        "import numpy as np\n",
        "import pickle\n",
        "from sklearn.preprocessing import OneHotEncoder\n",
        "from sklearn.model_selection import train_test_split\n",
        "from keras.applications.vgg16 import VGG16\n",
        "from keras.layers import Input, Flatten, Dense, Dropout\n",
        "from keras.models import Model\n",
        "from keras.callbacks import ModelCheckpoint\n",
        "import matplotlib.pyplot as plt\n",
        "import random\n",
        "from keras.models import  load_model\n",
        "import sys\n"
      ],
      "metadata": {
        "id": "E0SUSU9zjhhy"
      },
      "execution_count": null,
      "outputs": []
    },
    {
      "cell_type": "code",
      "source": [
        "my_model = get_model()\n",
        "my_model.load_weights(\"/content/weights-10-0.95.hdf5\")\n"
      ],
      "metadata": {
        "id": "3NepuTHLBaQ4"
      },
      "execution_count": null,
      "outputs": []
    },
    {
      "cell_type": "code",
      "source": [
        "image_org = cv2.imread('/content/Shoe vs Sandal vs Boot Dataset/Shoe/Shoe (1).jpg')\n",
        "\n",
        "image_org = cv2.resize(image_org, dsize=None,fx=0.5,fy=0.5)\n",
        "# Resize\n",
        "image = image_org.copy()\n",
        "image = cv2.resize(image, dsize=(128, 128))\n",
        "image = image.astype('float')*1./255\n",
        "# Convert to tensor\n",
        "image = np.expand_dims(image, axis=0)\n",
        "class_name = ['boot', 'sandal', 'shoe']\n",
        "# Predict\n",
        "predict = my_model.predict(image)\n",
        "# print(\"This picture is: \", class_name[np.argmax(predict[0])])\n",
        "print(np.max(predict[0]))\n",
        "if (np.max(predict)>=0.8) :\n",
        "# Show image\n",
        "    \n",
        "    print(class_name[np.argmax(predict[0])])\n",
        "\n",
        "    "
      ],
      "metadata": {
        "colab": {
          "base_uri": "https://localhost:8080/"
        },
        "id": "g3jCEXFqB9G_",
        "outputId": "f6c8ea6c-6a1b-44e5-f6f1-bcb2cad2b648"
      },
      "execution_count": null,
      "outputs": [
        {
          "output_type": "stream",
          "name": "stdout",
          "text": [
            "1/1 [==============================] - 1s 725ms/step\n",
            "0.98557496\n",
            "shoe\n"
          ]
        }
      ]
    }
  ]
}