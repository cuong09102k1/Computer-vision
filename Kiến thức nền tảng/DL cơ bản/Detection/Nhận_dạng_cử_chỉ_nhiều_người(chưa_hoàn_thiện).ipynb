{
  "cells": [
    {
      "cell_type": "code",
      "source": [
        "pip install cvzone"
      ],
      "metadata": {
        "colab": {
          "base_uri": "https://localhost:8080/"
        },
        "id": "_dR902aKrQyh",
        "outputId": "4efa17c3-b294-42b8-ae66-9a5ec5bc3548"
      },
      "execution_count": null,
      "outputs": [
        {
          "output_type": "stream",
          "name": "stdout",
          "text": [
            "Looking in indexes: https://pypi.org/simple, https://us-python.pkg.dev/colab-wheels/public/simple/\n",
            "Requirement already satisfied: cvzone in /usr/local/lib/python3.10/dist-packages (1.5.6)\n",
            "Requirement already satisfied: opencv-python in /usr/local/lib/python3.10/dist-packages (from cvzone) (4.7.0.72)\n",
            "Requirement already satisfied: numpy in /usr/local/lib/python3.10/dist-packages (from cvzone) (1.22.4)\n"
          ]
        }
      ]
    },
    {
      "cell_type": "code",
      "source": [],
      "metadata": {
        "id": "NZ0PzddurUL3"
      },
      "execution_count": null,
      "outputs": []
    },
    {
      "cell_type": "code",
      "execution_count": null,
      "metadata": {
        "id": "3fVN1sL0tq2j"
      },
      "outputs": [],
      "source": [
        "import tensorflow as tf\n",
        "import tensorflow_hub as hub\n",
        "import cv2\n",
        "from matplotlib import pyplot as plt\n",
        "import numpy as np\n",
        "import cvzone\n",
        "import math"
      ]
    },
    {
      "cell_type": "code",
      "execution_count": null,
      "metadata": {
        "id": "Wx0QBDHuuAu6"
      },
      "outputs": [],
      "source": [
        "#Neu su dung GPU\n",
        "gpus = tf.config.experimental.list_physical_devices('GPU')\n",
        "for gpu in gpus:\n",
        "  tf.config.experimental.set_memory_growth(gpu, True)"
      ]
    },
    {
      "cell_type": "code",
      "execution_count": null,
      "metadata": {
        "id": "dQKfJ1LMuAiK"
      },
      "outputs": [],
      "source": [
        "model = hub.load('https://tfhub.dev/google/movenet/multipose/lightning/1')\n",
        "movenet = model.signatures['serving_default']"
      ]
    },
    {
      "cell_type": "code",
      "execution_count": null,
      "metadata": {
        "id": "B2HSPLqp7vdR"
      },
      "outputs": [],
      "source": [
        "# Function to loop through each person detected and render\n",
        "def loop_through_people(frame, keypoints_with_scores, edges, confidence_threshold):\n",
        "    for person in keypoints_with_scores:\n",
        "        draw_connections(frame, person, edges, confidence_threshold)\n",
        "        draw_keypoints(frame, person, confidence_threshold)"
      ]
    },
    {
      "cell_type": "code",
      "execution_count": null,
      "metadata": {
        "id": "AwDdphX97x7n"
      },
      "outputs": [],
      "source": [
        "def draw_keypoints(frame, keypoints, confidence_threshold):\n",
        "    y, x, c = frame.shape\n",
        "    shaped = np.squeeze(np.multiply(keypoints, [y,x,1]))\n",
        "    \n",
        "    for kp in shaped:\n",
        "        ky, kx, kp_conf = kp\n",
        "        if kp_conf > confidence_threshold:\n",
        "            cv2.circle(frame, (int(kx), int(ky)), 6, (0,255,0), -1)"
      ]
    },
    {
      "cell_type": "code",
      "source": [
        "def loop_rec(frame, keypoints_rec, confidence_threshold):\n",
        "    for person in keypoints_rec:\n",
        "        draw_rec(frame, person, confidence_threshold)\n",
        "\n",
        "def draw_rec(frame, keypoints, confidence_threshold):\n",
        "    y, x, c = frame.shape\n",
        "    shaped = np.squeeze(np.multiply(keypoints, [y,x,1]))\n",
        "    \n",
        "    for kp in shaped:\n",
        "        ky, kx, kp_conf = kp\n",
        "        if kp_conf > confidence_threshold:\n",
        "            cv2.circle(frame, (int(kx), int(ky)), 6, (0,255,0), -1)"
      ],
      "metadata": {
        "id": "UgsV7yCAtxdH"
      },
      "execution_count": null,
      "outputs": []
    },
    {
      "cell_type": "code",
      "execution_count": null,
      "metadata": {
        "id": "4RN7oIDz74TB"
      },
      "outputs": [],
      "source": [
        "def draw_connections(frame, keypoints, edges, confidence_threshold):\n",
        "    y, x, c = frame.shape\n",
        "    shaped = np.squeeze(np.multiply(keypoints, [y,x,1]))\n",
        "    \n",
        "    for edge, color in edges.items():\n",
        "        p1, p2 = edge\n",
        "        y1, x1, c1 = shaped[p1]\n",
        "        y2, x2, c2 = shaped[p2]\n",
        "        \n",
        "        if (c1 > confidence_threshold) & (c2 > confidence_threshold):      \n",
        "            cv2.line(frame, (int(x1), int(y1)), (int(x2), int(y2)), (0,0,255), 4)"
      ]
    },
    {
      "cell_type": "code",
      "execution_count": null,
      "metadata": {
        "id": "wfciuJ127vO3"
      },
      "outputs": [],
      "source": [
        "EDGES = {\n",
        "    (0, 1): 'm',\n",
        "    (0, 2): 'c',\n",
        "    (1, 3): 'm',\n",
        "    (2, 4): 'c',\n",
        "    (0, 5): 'm',\n",
        "    (0, 6): 'c',\n",
        "    (5, 7): 'm',\n",
        "    (7, 9): 'm',\n",
        "    (6, 8): 'c',\n",
        "    (8, 10): 'c',\n",
        "    (5, 6): 'y',\n",
        "    (5, 11): 'm',\n",
        "    (6, 12): 'c',\n",
        "    (11, 12): 'y',\n",
        "    (11, 13): 'm',\n",
        "    (13, 15): 'm',\n",
        "    (12, 14): 'c',\n",
        "    (14, 16): 'c'\n",
        "}"
      ]
    },
    {
      "cell_type": "code",
      "execution_count": null,
      "metadata": {
        "colab": {
          "base_uri": "https://localhost:8080/"
        },
        "id": "jeZuVb8tgAN9",
        "outputId": "54faad27-3728-412f-acaf-ec1e7e041351"
      },
      "outputs": [
        {
          "output_type": "execute_result",
          "data": {
            "text/plain": [
              "0.6"
            ]
          },
          "metadata": {},
          "execution_count": 11
        }
      ],
      "source": [
        "\n",
        "192/320"
      ]
    },
    {
      "cell_type": "code",
      "source": [
        "def IOU(boxA, boxB):\n",
        "    # pyimagesearch: determine the (x, y)-coordinates of the intersection rectangle\n",
        "    xA = max(boxA[0], boxB[0])\n",
        "    yA = max(boxA[1], boxB[1])\n",
        "    xB = min(boxA[2], boxB[2])\n",
        "    yB = min(boxA[3], boxB[3])\n",
        "\n",
        "    # compute the area of intersection rectangle\n",
        "    interArea = max(0, xB - xA + 1) * max(0, yB - yA + 1)\n",
        "\n",
        "    # compute the area of both the prediction and ground-truth\n",
        "    # rectangles\n",
        "    boxAArea = (boxA[2] - boxA[0] + 1) * (boxA[3] - boxA[1] + 1)\n",
        "    boxBArea = (boxB[2] - boxB[0] + 1) * (boxB[3] - boxB[1] + 1)\n",
        "\n",
        "    # compute the intersection over union by taking the intersection\n",
        "    # area and dividing it by the sum of prediction + ground-truth\n",
        "    # areas - the interesection area\n",
        "    iou = interArea / float(boxAArea + boxBArea - interArea)\n",
        "\n",
        "    # return the intersection over union value\n",
        "    return iou\n",
        "    \n"
      ],
      "metadata": {
        "id": "-6U8k8VJ9jK2"
      },
      "execution_count": null,
      "outputs": []
    },
    {
      "cell_type": "code",
      "source": [
        "# boxA = (1,2,3,5)\n",
        "# boxB = (1,2,3,4)\n",
        "# print(IOU(boxA, boxB))\n"
      ],
      "metadata": {
        "id": "apnyS1IfURpX"
      },
      "execution_count": null,
      "outputs": []
    },
    {
      "cell_type": "code",
      "source": [
        "class Box:\n",
        "    def __init__(self, y1=0, x1=0, y2=0, x2=0,conf = 0, count=0):\n",
        "        self.x1 = x1\n",
        "        self.y1 = y1\n",
        "        self.x2 = x2\n",
        "        self.y2 = y2\n",
        "        self.conf = conf\n",
        "        self.count = count"
      ],
      "metadata": {
        "id": "Ct375cZUFGXz"
      },
      "execution_count": null,
      "outputs": []
    },
    {
      "cell_type": "code",
      "source": [
        "# box1 = Box(1,2,3,4,5)\n",
        "# print(box1.x1)"
      ],
      "metadata": {
        "id": "d7SYoPevWaBR"
      },
      "execution_count": null,
      "outputs": []
    },
    {
      "cell_type": "code",
      "source": [
        "def update_trackers(boxes1, boxes2):\n",
        "    A = [] \n",
        "    B = []\n",
        "    C = []\n",
        "    updated_boxes1 = []\n",
        "    updated_boxes2 = []\n",
        "    print('len(boxes1): ',len(boxes1))\n",
        "\n",
        "    for box2 in boxes2:\n",
        "        count = 0\n",
        "        found_match = False\n",
        "        B[:] = box2.x1,box2.y1, box2.x2, box2.y2\n",
        "        for box1 in boxes1:\n",
        "            A[:] = box1.x1,box1.y1, box1.x2, box1.y2\n",
        "            if IOU(A, B) > 0.6:\n",
        "                print('IOU',IOU(A, B))\n",
        "                box2.count = box1.count\n",
        "                updated_boxes1.append(box1)\n",
        "                updated_boxes2.append(box2)\n",
        "                found_match = True\n",
        "                break\n",
        "        if not found_match:\n",
        "            # Thêm các box2 còn lại vào danh sách updated_boxes1\n",
        "            for box1 in boxes1:\n",
        "              C[:] = box1.x1,box1.y1, box1.x2, box1.y2\n",
        "              if IOU(C, B) < 0.5:\n",
        "                print('IOU_sai: ', IOU(A, B))\n",
        "                print('box_sai:', box1.count, '-', box2.count)\n",
        "                count = count + 1\n",
        "            if count == len(boxes1):\n",
        "              updated_boxes2.append(box2)\n",
        "    # Xóa các box1 không được update\n",
        "    for box1 in boxes1:\n",
        "        if box1 not in updated_boxes1:\n",
        "            del box1\n",
        "    return updated_boxes2\n"
      ],
      "metadata": {
        "id": "m7gQlLedCVBO"
      },
      "execution_count": null,
      "outputs": []
    },
    {
      "cell_type": "code",
      "source": [],
      "metadata": {
        "id": "QMsyc7tMmW5H"
      },
      "execution_count": null,
      "outputs": []
    },
    {
      "cell_type": "code",
      "execution_count": null,
      "metadata": {
        "id": "vIPQqwYlvESY"
      },
      "outputs": [],
      "source": [
        "cap = cv2.VideoCapture('/content/drive/MyDrive/Data-ML-Drive/yolo_v8/video_hau_2.mp4')\n",
        "# Lấy thông số kích thước video từ video gốc\n",
        "frame_width = int(cap.get(3))\n",
        "frame_height = int(cap.get(4))\n",
        "print(frame_width,frame_height)\n",
        "fps = int(cap.get(5))\n",
        "fourcc = cv2.VideoWriter_fourcc(*\"MP4V\")\n",
        "out = cv2.VideoWriter(\"/content/drive/MyDrive/Data-ML-Drive/yolo_v8/data_detech/output4.mp4\", fourcc, fps, (frame_width, frame_height))\n",
        "boxes1 = [Box()]\n",
        "count_frame = 0\n",
        "count = 0\n",
        "while True:\n",
        "  ret,frame = cap.read()\n",
        "\n",
        "  if not ret:\n",
        "    break\n",
        "  #resize:\n",
        "  count_frame = count_frame+1\n",
        "  print(\"frame: \",count_frame)\n",
        "  img = frame.copy()\n",
        "  img = tf.image.resize_with_pad(tf.expand_dims(img, axis = 0),480,256)\n",
        "  input_img = tf.cast(img, dtype = tf.int32)\n",
        "\n",
        "  #detection\n",
        "  results = movenet(input_img)\n",
        "  #print(results)\n",
        "  keypoints_with_scores = results['output_0'].numpy()[:,:,:51].reshape((6,17,3))\n",
        "  keypoints_rec = results['output_0'].numpy()[:,:,51:].reshape((6,5))\n",
        "  print('keypoints_rec: ', keypoints_rec)\n",
        "  print('keypoints_rec[:,-1]: ',keypoints_rec[:,-1])\n",
        "\n",
        "  boxes2 = []\n",
        "  for i in range(len(keypoints_rec[:,-1])):\n",
        "    if keypoints_rec[i,-1] > 0.1:\n",
        "      y1, x1, y2, x2 = keypoints_rec[i,:4]\n",
        "      y1, y2, x1, x2 = y1*frame_height, y2*frame_height, x1*frame_width, x2*frame_width\n",
        "      x1, y1, x2, y2 = int(x1), int(y1), int(x2), int(y2)\n",
        "      w,h = x2 - x1, y2 - y1\n",
        "      print(x1, y1, x2, y2,w,h)\n",
        "      cvzone.cornerRect(frame, (x1,y1,w,h))\n",
        "\n",
        "      conf = keypoints_rec[i,-1]\n",
        "      conf = math.ceil((conf*100))/100\n",
        "      count = count + 1\n",
        "      boxes2.append(Box(y1, x1, y2, x2, conf, count))\n",
        "  \n",
        "  for box1 in boxes1:\n",
        "    print('box1',vars(box1))\n",
        "  for box2 in boxes2:\n",
        "    print('box2',vars(box2))\n",
        "  boxes_f = update_trackers(boxes1, boxes2)\n",
        "  boxes1 = boxes_f\n",
        "  for box1 in boxes1:\n",
        "    print('box1 da update',vars(box1))\n",
        "    cvzone.putTextRect(frame, f'ID: {box1.count} {box1.conf}', (max(0,box1.x1), max(35, box1.y1)), scale = 3)\n",
        "\n",
        "\n",
        "\n",
        "\n",
        "  # Render keypoints \n",
        "  loop_through_people(frame, keypoints_with_scores, EDGES, 0.5)\n",
        "  #print(frame.shape)\n",
        "  #print(input_img.shape)\n",
        "\n",
        "  out.write(frame)\n",
        "cap.release()\n",
        "out.release()\n",
        "cv2.destroyAllWindows()\n"
      ]
    },
    {
      "cell_type": "code",
      "execution_count": null,
      "metadata": {
        "id": "yn1vHB-IvEJi",
        "colab": {
          "base_uri": "https://localhost:8080/"
        },
        "outputId": "f8dc012d-44cb-4132-a7f4-4a10f1126b90"
      },
      "outputs": [
        {
          "output_type": "stream",
          "name": "stdout",
          "text": [
            "[[[4.4437015e-01 6.9113421e-01 5.0913411e-01]\n",
            "  [4.0452355e-01 7.0512408e-01 6.7294675e-01]\n",
            "  [4.2167616e-01 6.7782211e-01 5.7389253e-01]\n",
            "  [4.0919691e-01 7.5136417e-01 6.6952860e-01]\n",
            "  [4.3768281e-01 6.8285680e-01 6.0003906e-01]\n",
            "  [5.6865561e-01 8.0833906e-01 8.0570209e-01]\n",
            "  [5.8356321e-01 6.5567297e-01 8.8084525e-01]\n",
            "  [7.8224158e-01 8.2679123e-01 6.5799373e-01]\n",
            "  [8.0428863e-01 6.3151520e-01 6.5097618e-01]\n",
            "  [9.4828737e-01 8.5634559e-01 7.7902174e-01]\n",
            "  [9.6392316e-01 6.0645986e-01 5.7237238e-01]\n",
            "  [9.4508117e-01 7.8585213e-01 7.7444267e-01]\n",
            "  [9.4722283e-01 6.7925304e-01 7.6098549e-01]\n",
            "  [9.5022649e-01 8.0533516e-01 5.9253823e-02]\n",
            "  [9.5691705e-01 6.4404267e-01 2.8864395e-02]\n",
            "  [9.3000430e-01 7.4167770e-01 8.9181997e-02]\n",
            "  [9.2276168e-01 7.7044964e-01 7.1094155e-02]]\n",
            "\n",
            " [[3.9279377e-01 3.6380139e-01 5.3781980e-01]\n",
            "  [3.7405699e-01 3.8058484e-01 6.1480594e-01]\n",
            "  [3.6990413e-01 3.4225354e-01 7.0410085e-01]\n",
            "  [4.0793556e-01 3.9670607e-01 6.3014543e-01]\n",
            "  [4.1176423e-01 3.1513309e-01 6.0997754e-01]\n",
            "  [5.7295060e-01 4.4342119e-01 8.8867879e-01]\n",
            "  [5.8196902e-01 2.6999909e-01 8.7209129e-01]\n",
            "  [8.0598372e-01 4.7475132e-01 6.5454429e-01]\n",
            "  [8.1796372e-01 2.4682760e-01 6.6972464e-01]\n",
            "  [9.5545447e-01 5.0962251e-01 5.9030181e-01]\n",
            "  [9.6948546e-01 2.1774045e-01 4.3397456e-01]\n",
            "  [9.5969331e-01 4.1496500e-01 7.4279934e-01]\n",
            "  [9.6328133e-01 3.1072065e-01 7.1182501e-01]\n",
            "  [9.6249878e-01 4.9671513e-01 2.2476234e-02]\n",
            "  [9.7067952e-01 2.8004283e-01 3.6129300e-02]\n",
            "  [9.2844450e-01 3.5197172e-01 2.6873503e-02]\n",
            "  [9.5449990e-01 4.2042810e-01 2.7098004e-02]]\n",
            "\n",
            " [[5.0078148e-01 8.9806187e-01 2.5713090e-03]\n",
            "  [4.8188132e-01 8.9402229e-01 1.0226597e-03]\n",
            "  [4.8231456e-01 8.9804268e-01 1.0674191e-03]\n",
            "  [4.9175200e-01 8.8711256e-01 7.6224783e-04]\n",
            "  [4.8951110e-01 8.9663869e-01 9.8288513e-04]\n",
            "  [5.3747535e-01 8.9178813e-01 4.5039761e-03]\n",
            "  [5.2719879e-01 8.9907473e-01 3.0090276e-03]\n",
            "  [5.7305241e-01 9.1843528e-01 4.1372734e-03]\n",
            "  [5.9309864e-01 9.0948004e-01 2.8445104e-03]\n",
            "  [5.9399778e-01 9.2093515e-01 2.4450300e-03]\n",
            "  [5.8902460e-01 9.2616141e-01 2.5634256e-03]\n",
            "  [6.3941413e-01 9.1460627e-01 4.3427086e-04]\n",
            "  [6.4456534e-01 9.0628427e-01 2.5624919e-04]\n",
            "  [5.9208339e-01 9.1798061e-01 8.2582480e-04]\n",
            "  [5.9219557e-01 9.2385876e-01 6.1573630e-04]\n",
            "  [5.9095460e-01 9.3439770e-01 3.1930220e-04]\n",
            "  [5.8749980e-01 9.3609965e-01 7.1680726e-04]]\n",
            "\n",
            " [[3.9279377e-01 3.6380139e-01 5.3781980e-01]\n",
            "  [3.7405699e-01 3.8058484e-01 6.1480594e-01]\n",
            "  [3.7081605e-01 3.4326187e-01 4.6716575e-02]\n",
            "  [4.0793556e-01 3.9670607e-01 6.3014543e-01]\n",
            "  [4.0498161e-01 3.2470104e-01 5.7062134e-03]\n",
            "  [5.7295060e-01 4.4342119e-01 8.8867879e-01]\n",
            "  [5.6718117e-01 3.1074813e-01 2.5770322e-03]\n",
            "  [6.2436974e-01 4.5648885e-01 1.1087146e-03]\n",
            "  [6.2417126e-01 3.4661350e-01 1.9576708e-04]\n",
            "  [5.8748221e-01 4.6576485e-01 1.8221387e-04]\n",
            "  [5.8548486e-01 3.5783896e-01 3.2812008e-03]\n",
            "  [6.4387715e-01 4.7673026e-01 1.8005865e-07]\n",
            "  [6.2825143e-01 4.3247834e-01 8.2870182e-09]\n",
            "  [6.2081063e-01 4.4559494e-01 2.0607063e-04]\n",
            "  [6.1339438e-01 4.0745440e-01 5.6237931e-04]\n",
            "  [4.6693826e-01 4.5481601e-01 2.3549721e-02]\n",
            "  [4.9249229e-01 4.9213129e-01 5.3455215e-04]]\n",
            "\n",
            " [[6.5432626e-01 9.3061125e-01 8.9651166e-04]\n",
            "  [6.5271091e-01 9.2755479e-01 4.1851198e-04]\n",
            "  [6.5227711e-01 9.4603854e-01 5.1075401e-04]\n",
            "  [6.9037127e-01 1.0155851e+00 3.7794531e-04]\n",
            "  [6.9907683e-01 1.0261011e+00 1.8897527e-03]\n",
            "  [6.7475665e-01 8.9804947e-01 9.1762253e-04]\n",
            "  [6.6941810e-01 9.6082944e-01 3.9035052e-03]\n",
            "  [7.0533437e-01 8.8775092e-01 8.6852501e-04]\n",
            "  [6.8266165e-01 9.3475866e-01 2.1501184e-03]\n",
            "  [7.5265586e-01 9.0716553e-01 1.4791483e-03]\n",
            "  [7.1389478e-01 9.5747519e-01 4.3111751e-03]\n",
            "  [9.0927166e-01 1.0089228e+00 5.9674500e-04]\n",
            "  [8.2429528e-01 9.4585437e-01 4.1193627e-03]\n",
            "  [9.6001875e-01 8.8805449e-01 2.7111559e-03]\n",
            "  [8.2398343e-01 9.7291309e-01 2.3452726e-03]\n",
            "  [9.5434177e-01 8.9624041e-01 1.7692834e-03]\n",
            "  [9.4147229e-01 9.5854789e-01 6.0917852e-03]]\n",
            "\n",
            " [[3.9306399e-01 3.6124238e-01 4.2978123e-01]\n",
            "  [3.7377450e-01 3.8085839e-01 3.8340050e-01]\n",
            "  [3.6990413e-01 3.4225354e-01 7.0410085e-01]\n",
            "  [4.0765083e-01 3.9757499e-01 5.0769664e-02]\n",
            "  [4.1176423e-01 3.1513309e-01 6.0997754e-01]\n",
            "  [5.8135402e-01 4.0840468e-01 7.5945221e-03]\n",
            "  [5.8196902e-01 2.6999909e-01 8.7209129e-01]\n",
            "  [8.0567473e-01 4.0619144e-01 2.9542195e-03]\n",
            "  [8.1650901e-01 2.4777761e-01 5.3918004e-01]\n",
            "  [8.8528514e-01 3.8639703e-01 3.9172322e-03]\n",
            "  [9.5396900e-01 2.2336350e-01 8.1503831e-02]\n",
            "  [9.4348228e-01 3.9623773e-01 2.8500464e-02]\n",
            "  [9.4698882e-01 3.1363389e-01 1.4038296e-01]\n",
            "  [9.1706371e-01 3.6905742e-01 5.4471809e-03]\n",
            "  [8.5082024e-01 2.4688204e-01 1.1303475e-02]\n",
            "  [9.3610394e-01 3.0608615e-01 2.0066933e-03]\n",
            "  [9.3092287e-01 3.0797136e-01 7.1538496e-03]]]\n"
          ]
        }
      ],
      "source": [
        "\n",
        "print(keypoints_with_scores)"
      ]
    },
    {
      "cell_type": "code",
      "execution_count": null,
      "metadata": {
        "id": "zLs6Jqc9vEHk"
      },
      "outputs": [],
      "source": []
    },
    {
      "cell_type": "code",
      "execution_count": null,
      "metadata": {
        "id": "kBkDZzYCvEFO"
      },
      "outputs": [],
      "source": []
    }
  ],
  "metadata": {
    "accelerator": "GPU",
    "colab": {
      "provenance": []
    },
    "gpuClass": "standard",
    "kernelspec": {
      "display_name": "Python 3",
      "name": "python3"
    },
    "language_info": {
      "name": "python"
    }
  },
  "nbformat": 4,
  "nbformat_minor": 0
}