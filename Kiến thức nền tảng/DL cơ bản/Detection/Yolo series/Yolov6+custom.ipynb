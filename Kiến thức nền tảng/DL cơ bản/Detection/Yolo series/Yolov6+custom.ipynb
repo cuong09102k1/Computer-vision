{
  "nbformat": 4,
  "nbformat_minor": 0,
  "metadata": {
    "colab": {
      "provenance": []
    },
    "kernelspec": {
      "name": "python3",
      "display_name": "Python 3"
    },
    "language_info": {
      "name": "python"
    },
    "accelerator": "GPU",
    "gpuClass": "standard"
  },
  "cells": [
    {
      "cell_type": "code",
      "execution_count": null,
      "metadata": {
        "id": "WiaeMRL8F4bA"
      },
      "outputs": [],
      "source": [
        "#lay ma nguon yolo v6 \n",
        "%cd /content/drive/MyDrive/Data-ML-Drive/Yolo_v6\n",
        "!git clone https://github.com/meituan/YOLOv6"
      ]
    },
    {
      "cell_type": "code",
      "source": [
        "#cai dat thu vien vao thu muc yolo_v6\n",
        "%cd /content/drive/MyDrive/Data-ML-Drive/Yolo_v6/YOLOv6\n",
        "!pip install -r requirements.txt"
      ],
      "metadata": {
        "id": "3k82kLIxK6u9"
      },
      "execution_count": null,
      "outputs": []
    },
    {
      "cell_type": "code",
      "source": [
        "#Thu nghiem yolo_v6(chua huan luyen) \n",
        "%cd /content/drive/MyDrive/Data-ML-Drive/Yolo_v6/YOLOv6\n",
        "!wget https://github.com/meituan/YOLOv6/releases/download/0.3.0/yolov6s.pt"
      ],
      "metadata": {
        "id": "6QKfajG2K6sn"
      },
      "execution_count": null,
      "outputs": []
    },
    {
      "cell_type": "code",
      "source": [
        "#Tai anh tren gg ve de test anh\n",
        "%cd /content/drive/MyDrive/Data-ML-Drive/Yolo_v6\n",
        "!mkdir test_images\n",
        "%cd test_images\n",
        "#!wget https://cdn.trithuccongdong.net/trithuccongdong/uploads/2018/06/Dam-chay-duoc-lan-rong-ra-nhu-the-nao-1024x681.jpg\n",
        "#!wget https://fagopet.vn/uploads/images/620c6bf59487f634f84414ac/cac-giong-cho-canh-dep.webp\n",
        "#!wget https://nld.mediacdn.vn/zoom/750_562/291774122806476800/2023/4/8/z4247028976160f0628fce18fba450c4efdd030a0a9287-16809191755771449999822.jpg\n",
        "!wget https://static.kinhtedothi.vn/w960/images/upload/2022/07/25/chay.jpg"
      ],
      "metadata": {
        "id": "fct8LIGlK6pE"
      },
      "execution_count": null,
      "outputs": []
    },
    {
      "cell_type": "code",
      "source": [
        "#Thu nhan dien voi mo hinh yolov6 co san\n",
        "%cd /content/drive/MyDrive/Data-ML-Drive/Yolo_v6/YOLOv6\n",
        "!python tools/infer.py --weights /content/drive/MyDrive/Data-ML-Drive/Yolo_v6/YOLOv6/yolov6s.pt --source /content/drive/MyDrive/Data-ML-Drive/Yolo_v6/test_images/Dam-chay-duoc-lan-rong-ra-nhu-the-nao-1024x681.jpg"
      ],
      "metadata": {
        "id": "WOVF8sK8K6nX"
      },
      "execution_count": null,
      "outputs": []
    },
    {
      "cell_type": "code",
      "source": [
        "#hien thi ket qua(lay trong thu muc runs/inference/exp)\n",
        "from IPython.display import Image\n",
        "%cd /content/drive/MyDrive/Data-ML-Drive/Yolo_v6/YOLOv6\n",
        "Image(filename='runs/inference/exp/000005.jpg')"
      ],
      "metadata": {
        "id": "KhEeST-PREqN"
      },
      "execution_count": null,
      "outputs": []
    },
    {
      "cell_type": "code",
      "source": [
        "#Train\n",
        "#gian nen file \n",
        "%cd /content/drive/MyDrive/Data-ML-Drive/Yolo_v6\n",
        "%mkdir train_images\n",
        "%cd train_images\n",
        "!unzip /content/drive/MyDrive/Data-ML-Drive/Yolo_v6/firedata.zip"
      ],
      "metadata": {
        "id": "lJwhl33eK6k1"
      },
      "execution_count": null,
      "outputs": []
    },
    {
      "cell_type": "code",
      "source": [
        "#To chuc lai hinh anh va nhan theo yolov6\n",
        "%cd /content/drive/MyDrive/Data-ML-Drive/Yolo_v6/train_images\n",
        "!mkdir images\n",
        "!mkdir images/train\n",
        "!mkdir labels\n",
        "!mkdir labels/train\n",
        "#chuyen toan bo file .jpg vao images/train\n",
        "!mv *.jpg images/train\n",
        "!mv *.txt labels/train\n",
        "\n"
      ],
      "metadata": {
        "id": "-dxsVViKMaNM"
      },
      "execution_count": null,
      "outputs": []
    },
    {
      "cell_type": "code",
      "source": [
        "#tao Yaml de cho yolov6 biet foder train, foder val va so class, ten class\n",
        "%cd /content/drive/MyDrive/Data-ML-Drive/Yolo_v6/YOLOv6\n",
        "!rm data/dataset.yaml\n",
        "!echo 'train: ../train_images/images/train' >> data/dataset.yaml\n",
        "!echo 'val: ../train_images/images/train' >> data/dataset.yaml\n",
        "!echo 'is_coco: False' >> data/dataset.yaml\n",
        "!echo 'nc: 1' >> data/dataset.yaml\n",
        "!echo \"names: ['fire']\" >> data/dataset.yaml\n",
        " "
      ],
      "metadata": {
        "id": "q_boPl6BMaKj"
      },
      "execution_count": null,
      "outputs": []
    },
    {
      "cell_type": "code",
      "source": [
        "#tien hanh train #https://www.youtube.com/watch?v=MHoN_gN8aCI\n",
        "%cd /content/drive/MyDrive/Data-ML-Drive/Yolo_v6/YOLOv6\n",
        "!python tools/train.py --batch 16 --conf configs/yolov6s.py --data data/dataset.yaml --epochs 10"
      ],
      "metadata": {
        "id": "Szf5Ij1ZMaG3"
      },
      "execution_count": null,
      "outputs": []
    },
    {
      "cell_type": "code",
      "source": [
        "#thu nghiem \n",
        "%cd /content/drive/MyDrive/Data-ML-Drive/Yolo_v6/YOLOv6\n",
        "!python tools/infer.py --yaml /content/drive/MyDrive/Data-ML-Drive/Yolo_v6/YOLOv6/data/dataset.yaml --weights /content/drive/MyDrive/Data-ML-Drive/Yolo_v6/YOLOv6/runs/train/exp8/weights/best_ckpt.pt --source /content/drive/MyDrive/Data-ML-Drive/Yolo_v6/train_images/images/train/000005.jpg"
      ],
      "metadata": {
        "id": "r1hWhRehMaEr"
      },
      "execution_count": null,
      "outputs": []
    }
  ]
}