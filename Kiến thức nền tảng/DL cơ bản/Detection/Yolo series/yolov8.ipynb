{
  "nbformat": 4,
  "nbformat_minor": 0,
  "metadata": {
    "colab": {
      "provenance": [],
      "gpuType": "T4"
    },
    "kernelspec": {
      "name": "python3",
      "display_name": "Python 3"
    },
    "language_info": {
      "name": "python"
    },
    "accelerator": "GPU",
    "gpuClass": "standard"
  },
  "cells": [
    {
      "cell_type": "code",
      "source": [
        "!pip install ultralytics\n",
        "!pip install cvzone"
      ],
      "metadata": {
        "id": "3_1HrtI6DcCi"
      },
      "execution_count": null,
      "outputs": []
    },
    {
      "cell_type": "code",
      "source": [
        "from google.colab import drive\n",
        "drive.mount('/content/drive')"
      ],
      "metadata": {
        "colab": {
          "base_uri": "https://localhost:8080/"
        },
        "id": "BPRI4QniEWJM",
        "outputId": "a42d7d4f-63ec-428e-9128-7c905c7c2f22"
      },
      "execution_count": null,
      "outputs": [
        {
          "output_type": "stream",
          "name": "stdout",
          "text": [
            "Drive already mounted at /content/drive; to attempt to forcibly remount, call drive.mount(\"/content/drive\", force_remount=True).\n"
          ]
        }
      ]
    },
    {
      "cell_type": "code",
      "source": [
        "from ultralytics import YOLO \n",
        "import cv2\n",
        "import numpy as np\n",
        "import matplotlib.pyplot as plt\n",
        "import cvzone\n",
        "import math"
      ],
      "metadata": {
        "id": "r9hArW9JHAhI"
      },
      "execution_count": null,
      "outputs": []
    },
    {
      "cell_type": "code",
      "source": [
        "classNames ={\n",
        " 0: 'person',\n",
        " 1: 'bicycle',\n",
        " 2: 'car',\n",
        " 3: 'motorcycle',\n",
        " 4: 'airplane',\n",
        " 5: 'bus',\n",
        " 6: 'train',\n",
        " 7: 'truck',\n",
        " 8: 'boat',\n",
        " 9: 'traffic light',\n",
        " 10: 'fire hydrant',\n",
        " 11: 'stop sign',\n",
        " 12: 'parking meter',\n",
        " 13: 'bench',\n",
        " 14: 'bird',\n",
        " 15: 'cat',\n",
        " 16: 'dog',\n",
        " 17: 'horse',\n",
        " 18: 'sheep',\n",
        " 19: 'cow',\n",
        " 20: 'elephant',\n",
        " 21: 'bear',\n",
        " 22: 'zebra',\n",
        " 23: 'giraffe',\n",
        " 24: 'backpack',\n",
        " 25: 'umbrella',\n",
        " 26: 'handbag',\n",
        " 27: 'tie',\n",
        " 28: 'suitcase',\n",
        " 29: 'frisbee',\n",
        " 30: 'skis',\n",
        " 31: 'snowboard',\n",
        " 32: 'sports ball',\n",
        " 33: 'kite',\n",
        " 34: 'baseball bat',\n",
        " 35: 'baseball glove',\n",
        " 36: 'skateboard',\n",
        " 37: 'surfboard',\n",
        " 38: 'tennis racket',\n",
        " 39: 'bottle',\n",
        " 40: 'wine glass',\n",
        " 41: 'cup',\n",
        " 42: 'fork',\n",
        " 43: 'knife',\n",
        " 44: 'spoon',\n",
        " 45: 'bowl',\n",
        " 46: 'banana',\n",
        " 47: 'apple',\n",
        " 48: 'sandwich',\n",
        " 49: 'orange',\n",
        " 50: 'broccoli',\n",
        " 51: 'carrot',\n",
        " 52: 'hot dog',\n",
        " 53: 'pizza',\n",
        " 54: 'donut',\n",
        " 55: 'cake',\n",
        " 56: 'chair',\n",
        " 57: 'couch',\n",
        " 58: 'potted plant',\n",
        " 59: 'bed',\n",
        " 60: 'dining table',\n",
        " 61: 'toilet',\n",
        " 62: 'tv',\n",
        " 63: 'laptop',\n",
        " 64: 'mouse',\n",
        " 65: 'remote',\n",
        " 66: 'keyboard',\n",
        " 67: 'cell phone',\n",
        " 68: 'microwave',\n",
        " 69: 'oven',\n",
        " 70: 'toaster',\n",
        " 71: 'sink',\n",
        " 72: 'refrigerator',\n",
        " 73: 'book',\n",
        " 74: 'clock',\n",
        " 75: 'vase',\n",
        " 76: 'scissors',\n",
        " 77: 'teddy bear',\n",
        " 78: 'hair drier',\n",
        " 79: 'toothbrush'}"
      ],
      "metadata": {
        "id": "c4a0oMgCHAes"
      },
      "execution_count": null,
      "outputs": []
    },
    {
      "cell_type": "code",
      "source": [
        "class Box:\n",
        "    def __init__(self, x1, y1, width, height, count):\n",
        "        self.x1 = x1\n",
        "        self.y1 = y1\n",
        "        self.x2 = x2\n",
        "        self.y2 = y2\n",
        "        self.count = count\n",
        "\n",
        "        #self.conf = conf"
      ],
      "metadata": {
        "id": "n6MAt5erFl7w"
      },
      "execution_count": null,
      "outputs": []
    },
    {
      "cell_type": "code",
      "source": [
        "model = YOLO(\"yolov8n.pt\")\n",
        "\n",
        "cap = cv2.VideoCapture('/content/drive/MyDrive/Data-ML-Drive/yolo_v8/Untitled video - Made with Clipchamp (1).mp4')\n",
        "\n",
        "# Lấy thông số kích thước video từ video gốc\n",
        "frame_width = int(cap.get(3))\n",
        "frame_height = int(cap.get(4))\n",
        "fps = int(cap.get(5))\n",
        "fourcc = cv2.VideoWriter_fourcc(*\"MP4V\")\n",
        "out = cv2.VideoWriter(\"/content/drive/MyDrive/Data-ML-Drive/yolo_v8/data_detech/output1.mp4\", fourcc, fps, (frame_width, frame_height))\n",
        "\n",
        "# Tạo danh sách lớn chứa danh sách box của tất cả các frame\n",
        "all_boxes = []\n",
        "\n",
        "while True:\n",
        "    success, img = cap.read()\n",
        "    if not success:\n",
        "        break\n",
        "        \n",
        "    # Detect objects and get their boxes\n",
        "    boxes1 = []\n",
        "    results = model(img, stream=True)\n",
        "    count = 0\n",
        "    for r in results:\n",
        "        for box in r.boxes:\n",
        "            if classNames[int(box.cls)] == \"person\" and box.conf > 0.8:\n",
        "                # Add the box to the list\n",
        "                x1, y1, x2, y2 = box.xyxy[0]\n",
        "                w, h = x2 - x1, y2 - y1\n",
        "                print(x1, y1, x2, y2,w,h)\n",
        "                conf = box.conf\n",
        "                count = count + 1\n",
        "                boxes1.append(Box(x1, y1, x2, y2, count))\n",
        "    \n",
        "    # Add the list of boxes to the all_boxes list\n",
        "    for box1 in boxes1:\n",
        "      for box2 in all_boxes[-1]:\n",
        "        if (box1.x1 - box2.x1)**2 + (box1.y1 - box2.y1)**2  + (box1.x2 - box2.x2)**2 + (box1.y2 -box2.y2) < 100:\n",
        "          \n",
        "\n",
        "\n",
        "\n",
        "\n",
        "\n",
        "\n",
        "    all_boxes.append(boxes1)\n",
        "    \n",
        "    # Draw the boxes on the image and display the number of people\n",
        "    count_nguoi = len(boxes)\n",
        "    cv2.putText(img, f'So luong nguoi: {count_nguoi}', (10, 50), cv2.FONT_HERSHEY_SIMPLEX, 1, (0, 255, 0), 2)\n",
        "    out.write(img)\n",
        "    \n",
        "\n",
        "for i, boxes1 in enumerate(all_boxes):\n",
        "  print(f\"Frame {i}:\")\n",
        "  for box in boxes1:\n",
        "    print(f\"x1: {box.x1}, y1: {box.y1}, x2: {box.x2}, y2: {box.y2}\")\n",
        "cap.release()\n",
        "out.release()\n",
        "cv2.destroyAllWindows()"
      ],
      "metadata": {
        "id": "bU9smd6CT3Bv"
      },
      "execution_count": null,
      "outputs": []
    },
    {
      "cell_type": "code",
      "source": [],
      "metadata": {
        "id": "yhooj9N51W0J"
      },
      "execution_count": null,
      "outputs": []
    },
    {
      "cell_type": "code",
      "source": [
        "model = YOLO(\"yolov8n.pt\")\n",
        "\n",
        "cap = cv2.VideoCapture('/content/drive/MyDrive/Data-ML-Drive/yolo_v8/video.mp4')\n",
        "\n",
        "# Lấy thông số kích thước video từ video gốc\n",
        "frame_width = int(cap.get(3))\n",
        "frame_height = int(cap.get(4))\n",
        "fps = int(cap.get(5))\n",
        "fourcc = cv2.VideoWriter_fourcc(*\"MP4V\")\n",
        "out = cv2.VideoWriter(\"/content/drive/MyDrive/Data-ML-Drive/yolo_v8/data_detech/output1.mp4\", fourcc, fps, (frame_width, frame_height))\n",
        "\n",
        "while True:\n",
        "  success, img = cap.read()\n",
        "  if not success:\n",
        "    break\n",
        "  #img = cv2.cvtColor(img, cv2.COLOR_BGR2RGB)\n",
        "  results = model(img, stream = True)\n",
        "  person_count = 0\n",
        "  for r in results:\n",
        "      boxes = r.boxes\n",
        "      for box in boxes:\n",
        "          #chi xet box nguoi voi xs la > 0.8\n",
        "          conf = box.conf[0]\n",
        "          if classNames[int(box.cls[0])] == \"person\":\n",
        "            person_count += 1\n",
        "            x1, y1, x2, y2 = box.xyxy[0]\n",
        "            x1, y1, x2, y2 = int(x1), int(y1), int(x2), int(y2)\n",
        "            w,h = x2 - x1, y2 - y1\n",
        "            print(x1, y1, x2, y2,w,h)\n",
        "            cvzone.cornerRect(img, (x1,y1,w,h))\n",
        "            conf = math.ceil((conf*100))/100\n",
        "            cvzone.putTextRect(img, f'Person {conf}', (max(0,x1), max(35, y1)), scale = 3)\n",
        "  cv2.putText(img, f'So luong nguoi: {person_count}', (100, 100), cv2.FONT_HERSHEY_SIMPLEX, 1, (0, 255, 0), 2)        \n",
        "  out.write(img)\n",
        "\n",
        "\n",
        "cap.release()\n",
        "out.release()\n",
        "cv2.destroyAllWindows()"
      ],
      "metadata": {
        "id": "9JtWDLBkxnY4"
      },
      "execution_count": null,
      "outputs": []
    },
    {
      "cell_type": "code",
      "source": [],
      "metadata": {
        "id": "MmK-9b6Dxnao"
      },
      "execution_count": null,
      "outputs": []
    }
  ]
}